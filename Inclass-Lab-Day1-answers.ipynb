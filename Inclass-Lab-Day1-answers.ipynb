{
 "cells": [
  {
   "cell_type": "markdown",
   "metadata": {
    "colab_type": "text",
    "collapsed": true,
    "id": "jxrbiP9xpCB_"
   },
   "source": [
    "## INCLASS_LAB-EXERCISE-DAY-01"
   ]
  },
  {
   "cell_type": "markdown",
   "metadata": {
    "colab_type": "text",
    "id": "-PwnWU9GpCCC"
   },
   "source": [
    "-----------"
   ]
  },
  {
   "cell_type": "code",
   "execution_count": 33,
   "metadata": {
    "colab": {},
    "colab_type": "code",
    "id": "b_40y1hYpCCD"
   },
   "outputs": [],
   "source": [
    "## CALLING LIBRARIES\n",
    "\n",
    "import numpy as np\n",
    "import pandas as pd\n",
    "import scipy.stats as stats\n",
    "import math\n",
    "import matplotlib.pyplot as plt\n",
    "import seaborn as sns\n",
    "%matplotlib inline"
   ]
  },
  {
   "cell_type": "markdown",
   "metadata": {
    "colab_type": "text",
    "id": "QS9SBTKJpCCI"
   },
   "source": [
    "## Binomial distribution:"
   ]
  },
  {
   "cell_type": "markdown",
   "metadata": {
    "colab_type": "text",
    "id": "odJnlYejpCCJ"
   },
   "source": [
    "1. **Problem:** The percentage of orders filled correctly at Wendy's was approximately 86.8%. Suppose that you go to drive-through window at Wendy's and place an order. Two friends of yours independently place orders at the drive-through window at the same Wendy's.\n",
    "\n",
    "\n",
    "------------------\n",
    "\n",
    "What are the probabilities that \n",
    "* a) all three \n",
    "* b) none of the three\n",
    "* c) atleast two of the three orders will be filled correctly?\n",
    "* d) what is the mean and standard deviation of the orders filled correctly?\n",
    "* e) Plot the binomial distribution function"
   ]
  },
  {
   "cell_type": "code",
   "execution_count": 34,
   "metadata": {
    "colab": {},
    "colab_type": "code",
    "id": "NPdTgZx7pCCK"
   },
   "outputs": [],
   "source": [
    "p   =  0.868 # percentage of orders filled correctly at Wendy's was approximately 86.8%\n",
    "n   =  3\n",
    "k   =  np.arange(0,4)"
   ]
  },
  {
   "cell_type": "code",
   "execution_count": 35,
   "metadata": {},
   "outputs": [
    {
     "data": {
      "text/plain": [
       "array([0.00229997, 0.0453721 , 0.2983559 , 0.65397203])"
      ]
     },
     "execution_count": 35,
     "metadata": {},
     "output_type": "execute_result"
    }
   ],
   "source": [
    "binomial = stats.binom.pmf(k,n,p)\n",
    "binomial"
   ]
  },
  {
   "cell_type": "markdown",
   "metadata": {
    "colab_type": "text",
    "id": "rixjejFmpCCN"
   },
   "source": [
    "#### a) all the three orders are filled correctly?\n",
    "-------------"
   ]
  },
  {
   "cell_type": "code",
   "execution_count": 36,
   "metadata": {
    "colab": {},
    "colab_type": "code",
    "id": "Kjc3VPBJpCCO"
   },
   "outputs": [
    {
     "data": {
      "text/plain": [
       "0.653972032"
      ]
     },
     "execution_count": 36,
     "metadata": {},
     "output_type": "execute_result"
    }
   ],
   "source": [
    "binomial[3]"
   ]
  },
  {
   "cell_type": "markdown",
   "metadata": {
    "colab_type": "text",
    "id": "47TJFhVCpCCR"
   },
   "source": [
    "#### b) none of the three orders are filled correctly?\n",
    "-----------------"
   ]
  },
  {
   "cell_type": "code",
   "execution_count": 37,
   "metadata": {
    "colab": {},
    "colab_type": "code",
    "id": "CZHBl9INpCCS"
   },
   "outputs": [
    {
     "data": {
      "text/plain": [
       "0.002299968"
      ]
     },
     "execution_count": 37,
     "metadata": {},
     "output_type": "execute_result"
    }
   ],
   "source": [
    "binomial[0]"
   ]
  },
  {
   "cell_type": "markdown",
   "metadata": {
    "colab_type": "text",
    "id": "jlgPsW3NpCCV"
   },
   "source": [
    "**To answer this question** \n",
    "\n",
    "#### c) atleast two of the three orders are filled correctly, we need to find out 1 - Probability of upto 1 failure\n",
    "\n",
    "\n",
    "\n",
    "\n",
    "\n",
    "---------------"
   ]
  },
  {
   "cell_type": "code",
   "execution_count": 38,
   "metadata": {},
   "outputs": [
    {
     "data": {
      "text/plain": [
       "array([0.00229997, 0.04767206, 0.34602797, 1.        ])"
      ]
     },
     "execution_count": 38,
     "metadata": {},
     "output_type": "execute_result"
    }
   ],
   "source": [
    "cumbinom = stats.binom.cdf(k,n,p)\n",
    "cumbinom"
   ]
  },
  {
   "cell_type": "code",
   "execution_count": 39,
   "metadata": {
    "colab": {},
    "colab_type": "code",
    "id": "tNRUKg1CpCCX"
   },
   "outputs": [
    {
     "data": {
      "text/plain": [
       "0.952327936"
      ]
     },
     "execution_count": 39,
     "metadata": {},
     "output_type": "execute_result"
    }
   ],
   "source": [
    "1 - cumbinom[1]"
   ]
  },
  {
   "cell_type": "markdown",
   "metadata": {
    "colab_type": "text",
    "id": "UmWVUT1TpCCe"
   },
   "source": [
    "#### d) what is the mean and standard deviation of the orders filled correctly?\n",
    "--------------"
   ]
  },
  {
   "cell_type": "code",
   "execution_count": 40,
   "metadata": {
    "colab": {},
    "colab_type": "code",
    "id": "I-3gJrpGpCCf"
   },
   "outputs": [
    {
     "name": "stdout",
     "output_type": "stream",
     "text": [
      "Mean is 2.604\n",
      "Standard Deviation is 0.5862832080146932\n"
     ]
    }
   ],
   "source": [
    "mean = n*p\n",
    "std = np.sqrt(n*p*(1-p))\n",
    "print('Mean is',mean)\n",
    "print('Standard Deviation is',std)"
   ]
  },
  {
   "cell_type": "markdown",
   "metadata": {
    "colab_type": "text",
    "id": "JC-NAnfspCCj"
   },
   "source": [
    "#### e). Plot  the binomial distribution function?"
   ]
  },
  {
   "cell_type": "code",
   "execution_count": 41,
   "metadata": {
    "colab": {},
    "colab_type": "code",
    "id": "DuBhP7VSpCCk"
   },
   "outputs": [
    {
     "data": {
      "image/png": "[encoded data removed]",
      "text/plain": [
       "<Figure size 432x288 with 1 Axes>"
      ]
     },
     "metadata": {
      "needs_background": "light"
     },
     "output_type": "display_data"
    }
   ],
   "source": [
    "plt.plot(k,binomial)\n",
    "plt.xlabel('Num of rec filled correctly')\n",
    "plt.ylabel('Probabilities')\n",
    "plt.show()"
   ]
  },
  {
   "cell_type": "markdown",
   "metadata": {
    "colab_type": "text",
    "id": "6ciEB5OQpCCn"
   },
   "source": [
    "## Poisson distribution"
   ]
  },
  {
   "cell_type": "markdown",
   "metadata": {
    "colab_type": "text",
    "id": "7lm3mIO2pCCo"
   },
   "source": [
    "#### 2. **Problem:** A Life Insurance agent sells on the average 3 life insurance policies per week. \n",
    "Use the Poisson law to calculate the probability that in a given week, he will sell\n",
    "\n",
    "a) Some policies\n",
    "\n",
    "b) 2 or more but less than 5 policies?\n",
    "\n",
    "c) Plot the Poisson distribution function?"
   ]
  },
  {
   "cell_type": "markdown",
   "metadata": {
    "colab_type": "text",
    "id": "4mWzK8hrpCCp"
   },
   "source": [
    "Here $\\lambda$ = 3"
   ]
  },
  {
   "cell_type": "code",
   "execution_count": 42,
   "metadata": {
    "colab": {},
    "colab_type": "code",
    "id": "2hrqdhcWpCCq"
   },
   "outputs": [],
   "source": [
    "rate =  3 # which is the mean\n",
    "n    =  np.arange(0,16)\n"
   ]
  },
  {
   "cell_type": "code",
   "execution_count": 43,
   "metadata": {},
   "outputs": [
    {
     "data": {
      "text/plain": [
       "array([0.04978707, 0.19914827, 0.42319008, 0.64723189, 0.81526324,\n",
       "       0.91608206, 0.96649146, 0.9880955 , 0.99619701, 0.99889751,\n",
       "       0.99970766, 0.99992861, 0.99998385, 0.9999966 , 0.99999933,\n",
       "       0.99999988])"
      ]
     },
     "execution_count": 43,
     "metadata": {},
     "output_type": "execute_result"
    }
   ],
   "source": [
    "poission = stats.poisson.cdf(n,rate)\n",
    "poission"
   ]
  },
  {
   "cell_type": "markdown",
   "metadata": {
    "colab_type": "text",
    "id": "jMZkSyJ6pCCt"
   },
   "source": [
    "#### a) Probability that the agent sells some policies?\n",
    "-----------"
   ]
  },
  {
   "cell_type": "code",
   "execution_count": 44,
   "metadata": {
    "colab": {},
    "colab_type": "code",
    "id": "i8-hVUvupCCu"
   },
   "outputs": [
    {
     "data": {
      "text/plain": [
       "0.950212931632136"
      ]
     },
     "execution_count": 44,
     "metadata": {},
     "output_type": "execute_result"
    }
   ],
   "source": [
    "1 - poission[0]"
   ]
  },
  {
   "cell_type": "markdown",
   "metadata": {
    "colab_type": "text",
    "id": "dNBVSwmxpCC0"
   },
   "source": [
    "#### b) Agent sells 2 or more but less than 5 policies?\n",
    " ------------"
   ]
  },
  {
   "cell_type": "code",
   "execution_count": 45,
   "metadata": {
    "colab": {},
    "colab_type": "code",
    "id": "eNNKUJ_RpCC0"
   },
   "outputs": [
    {
     "data": {
      "text/plain": [
       "0.6161149710523164"
      ]
     },
     "execution_count": 45,
     "metadata": {},
     "output_type": "execute_result"
    }
   ],
   "source": [
    "result = 0\n",
    "for i in range(2,5):\n",
    "    result+=stats.poisson.pmf(i,rate)\n",
    "result"
   ]
  },
  {
   "cell_type": "code",
   "execution_count": 46,
   "metadata": {},
   "outputs": [
    {
     "data": {
      "text/plain": [
       "0.6161149710523164"
      ]
     },
     "execution_count": 46,
     "metadata": {},
     "output_type": "execute_result"
    }
   ],
   "source": [
    "poission[4] - poission[1]"
   ]
  },
  {
   "cell_type": "markdown",
   "metadata": {
    "colab_type": "text",
    "id": "Ky_NxOnbpCC3"
   },
   "source": [
    "#### c) Plot the Poisson distribution function?\n",
    "---------"
   ]
  },
  {
   "cell_type": "code",
   "execution_count": 47,
   "metadata": {
    "colab": {},
    "colab_type": "code",
    "id": "e07ZQNaWpCC4"
   },
   "outputs": [
    {
     "data": {
      "image/png": "[encoded data removed]",
      "text/plain": [
       "<Figure size 432x288 with 1 Axes>"
      ]
     },
     "metadata": {
      "needs_background": "light"
     },
     "output_type": "display_data"
    }
   ],
   "source": [
    "plt.plot(n,stats.poisson.pmf(n,rate),'o-')\n",
    "plt.show()"
   ]
  },
  {
   "cell_type": "markdown",
   "metadata": {
    "colab_type": "text",
    "id": "6-SuVYtMpCC9"
   },
   "source": [
    "## Normal Distribution"
   ]
  },
  {
   "cell_type": "markdown",
   "metadata": {
    "colab_type": "text",
    "id": "Iq0tQk8npCC-"
   },
   "source": [
    "**Problem:** The mean salaries of Data Scientists working in Chennai, India is calculated to be 7,00,000 INR with a standard deviation of 90,000 INR. The random variable salary of Data Scientists follows a normal distribution.\n",
    "\n",
    "\n",
    "-----------------\n",
    "\n",
    "* a) What is the probability that a Data Scientist in Chennai has a salary more than 10,00,000 INR?\n",
    "* b) What is the probability that a Data Scientist in Chennai has a salary between 6,00,000 & 9,00,000 INR?\n",
    "* c) What is the probability that a Data Scientist in Chennai has a salary less than 4,00,000 INR?"
   ]
  },
  {
   "cell_type": "markdown",
   "metadata": {
    "colab_type": "text",
    "id": "z7fk54BnpCC_"
   },
   "source": [
    "#### a) What is the probability that a Data Scientist in Chennai has a salary more than 10,00,000 INR?\n",
    "------------"
   ]
  },
  {
   "cell_type": "code",
   "execution_count": 48,
   "metadata": {
    "colab": {},
    "colab_type": "code",
    "id": "dFcnbUpDpCDA"
   },
   "outputs": [
    {
     "data": {
      "text/plain": [
       "0.0004290603331968372"
      ]
     },
     "execution_count": 48,
     "metadata": {},
     "output_type": "execute_result"
    }
   ],
   "source": [
    "mu = 700000\n",
    "sigma = 90000\n",
    "x = 1000000\n",
    "stats.norm.sf(x,mu,sigma)"
   ]
  },
  {
   "cell_type": "markdown",
   "metadata": {
    "colab_type": "text",
    "id": "GQuO5dvdpCDD"
   },
   "source": [
    "#### b) What is the probability that a Data Scientist in Chennai has a salary between 6,00,000 & 9,00,000 INR?\n",
    "-----------------"
   ]
  },
  {
   "cell_type": "code",
   "execution_count": 49,
   "metadata": {
    "colab": {},
    "colab_type": "code",
    "id": "zdN6eBPYpCDE"
   },
   "outputs": [
    {
     "data": {
      "text/plain": [
       "0.8536055914064735"
      ]
     },
     "execution_count": 49,
     "metadata": {},
     "output_type": "execute_result"
    }
   ],
   "source": [
    "a = 600000\n",
    "b = 900000\n",
    "stats.norm.cdf(b,mu,sigma) - stats.norm.cdf(a,mu,sigma)"
   ]
  },
  {
   "cell_type": "markdown",
   "metadata": {
    "colab_type": "text",
    "id": "m6u51gpnpCDH"
   },
   "source": [
    "#### c) What is the probability that a Data Scientist in Chennai has a salary less than 4,00,000 INR?\n",
    "-------------"
   ]
  },
  {
   "cell_type": "code",
   "execution_count": 50,
   "metadata": {
    "colab": {},
    "colab_type": "code",
    "id": "g5Mnb73kpCDI"
   },
   "outputs": [
    {
     "data": {
      "text/plain": [
       "0.0004290603331968372"
      ]
     },
     "execution_count": 50,
     "metadata": {},
     "output_type": "execute_result"
    }
   ],
   "source": [
    "x1 = 400000\n",
    "stats.norm.cdf(x1,mu,sigma)"
   ]
  },
  {
   "cell_type": "markdown",
   "metadata": {
    "colab_type": "text",
    "id": "vvxw1E4ppCDM"
   },
   "source": [
    "----------------"
   ]
  },
  {
   "cell_type": "markdown",
   "metadata": {
    "colab_type": "text",
    "id": "vHXHB__tpCDN"
   },
   "source": [
    "**Problem:**. The following table contains the overall miles per Gallon (MPG) of 2017 small SUVs ( n =40).**\n",
    "* Decide whether the data appears to be normally distributed by\n",
    "* a. Mean and median "
   ]
  },
  {
   "cell_type": "code",
   "execution_count": 51,
   "metadata": {
    "colab": {},
    "colab_type": "code",
    "id": "2zj0fM6ZpCDO",
    "outputId": "592077f1-5a43-4e6f-bf3f-8d80c90f7e26"
   },
   "outputs": [
    {
     "name": "stdout",
     "output_type": "stream",
     "text": [
      "[19 20 20 20 21 19 21 19 21 20 20 20 19 21 21 22 20 22 20 20 22 20 22 21\n",
      " 19 19 20 20 21 20 19 18 20 21 21 20 21 21 20 21]\n"
     ]
    }
   ],
   "source": [
    "mpg = np.array([19, 20, 20, 20, 21, 19, 21, 19, 21, 20, 20, 20, 19, 21, 21, 22, 20, 22, 20, 20, 22, 20, 22, 21, 19,\n",
    "                             19, 20, 20, 21, 20, 19, 18, 20, 21, 21, 20, 21, 21, 20,  21])\n",
    "print(mpg)"
   ]
  },
  {
   "cell_type": "code",
   "execution_count": 52,
   "metadata": {
    "colab": {},
    "colab_type": "code",
    "id": "Ea5AM547pCDR"
   },
   "outputs": [
    {
     "name": "stdout",
     "output_type": "stream",
     "text": [
      "20.275\n",
      "20.0\n"
     ]
    },
    {
     "data": {
      "text/plain": [
       "<matplotlib.axes._subplots.AxesSubplot at 0x271d935d30>"
      ]
     },
     "execution_count": 52,
     "metadata": {},
     "output_type": "execute_result"
    },
    {
     "data": {
      "image/png": "[encoded data removed]",
      "text/plain": [
       "<Figure size 432x288 with 1 Axes>"
      ]
     },
     "metadata": {
      "needs_background": "light"
     },
     "output_type": "display_data"
    }
   ],
   "source": [
    "print(np.mean(mpg))\n",
    "print(np.median(mpg))\n",
    "sns.distplot(mpg)"
   ]
  },
  {
   "cell_type": "markdown",
   "metadata": {
    "colab_type": "text",
    "id": "e4mtqXGapCDW"
   },
   "source": [
    "----------------"
   ]
  },
  {
   "cell_type": "markdown",
   "metadata": {
    "colab_type": "text",
    "id": "ZDws3VDCpCDY"
   },
   "source": [
    "**Problem:**).What is the sampling error and standard error for the given the population data and sample data.Explain what is sampling error and how can standard error can be reduced.**"
   ]
  },
  {
   "cell_type": "markdown",
   "metadata": {
    "colab_type": "text",
    "id": "vVp74UC0pCDa"
   },
   "source": [
    "**Population data.**"
   ]
  },
  {
   "cell_type": "code",
   "execution_count": 53,
   "metadata": {
    "colab": {},
    "colab_type": "code",
    "id": "kZV4KGMwpCDd"
   },
   "outputs": [],
   "source": [
    "Marks_scored=[60,80,70,75,80,90,100,100,65,75,60,90,70,70,80,50,55,60,70,65,70,55,50,65,70,65,70,65,75,80,90,95,95,85,90,80,75,70,80,85,90,80,75,70,60,65,70,80,75,80,90,65,80,65,70,85,75,70,80,85,65,70,85,80,65,70,80,90,100,60,70,55,60,70,70,70,80,85,90,80,75,70,60,65,70,80,75,80,90,70,85,80,65,70,80,90,100,60,70,80]"
   ]
  },
  {
   "cell_type": "markdown",
   "metadata": {
    "colab_type": "text",
    "id": "s1-j5hHmpCDf"
   },
   "source": [
    "**Sample data.**"
   ]
  },
  {
   "cell_type": "code",
   "execution_count": 54,
   "metadata": {
    "colab": {},
    "colab_type": "code",
    "id": "RHZvkjlSpCDg"
   },
   "outputs": [],
   "source": [
    "sam_marks=[90,100,100,65,75,60,90,70,65,70,65,70,65,60,70,85,65,70,85,80,65,70,80,65,70]"
   ]
  },
  {
   "cell_type": "markdown",
   "metadata": {
    "colab_type": "text",
    "id": "MGul5KLUpCDj"
   },
   "source": [
    "**a).Sampling Error**"
   ]
  },
  {
   "cell_type": "code",
   "execution_count": 55,
   "metadata": {
    "colab": {},
    "colab_type": "code",
    "id": "D4GkFDkYpCDk"
   },
   "outputs": [
    {
     "data": {
      "text/plain": [
       "0.9500000000000028"
      ]
     },
     "execution_count": 55,
     "metadata": {},
     "output_type": "execute_result"
    }
   ],
   "source": [
    "np.array(Marks_scored).mean() - np.array(sam_marks).mean()"
   ]
  },
  {
   "cell_type": "markdown",
   "metadata": {
    "colab_type": "text",
    "id": "sN3HDpHjpCDm"
   },
   "source": [
    "**b).standard error**"
   ]
  },
  {
   "cell_type": "code",
   "execution_count": 56,
   "metadata": {
    "colab": {},
    "colab_type": "code",
    "id": "oUBkd8GepCDn"
   },
   "outputs": [
    {
     "data": {
      "text/plain": [
       "2.2605087922854894"
      ]
     },
     "execution_count": 56,
     "metadata": {},
     "output_type": "execute_result"
    }
   ],
   "source": [
    "np.array(Marks_scored).std()/math.sqrt(len(sam_marks))"
   ]
  },
  {
   "cell_type": "markdown",
   "metadata": {
    "colab_type": "text",
    "id": "VUFiylZapCDp"
   },
   "source": [
    "----------------------"
   ]
  },
  {
   "cell_type": "markdown",
   "metadata": {
    "colab_type": "text",
    "id": "lWYKVpLXpCDq"
   },
   "source": [
    "**Problem:** Provided the Population data and sample data.**\n",
    "\n",
    "* a).plot the population data and sample data check how the data is distributed.Give inference wheather the sampling distribution similar to population data."
   ]
  },
  {
   "cell_type": "code",
   "execution_count": 57,
   "metadata": {
    "colab": {},
    "colab_type": "code",
    "id": "494JFSJzpCDs",
    "outputId": "1f9a7fd2-2a0e-4a51-ba79-d11f7561d11d"
   },
   "outputs": [
    {
     "name": "stdout",
     "output_type": "stream",
     "text": [
      "[58 55 53 ... 27 28 28]\n"
     ]
    }
   ],
   "source": [
    "np.random.seed(10)\n",
    "population_ages1 = stats.poisson.rvs(loc=18, mu=35, size=150000)\n",
    "population_ages2 = stats.poisson.rvs(loc=18, mu=10, size=100000)\n",
    "population_ages = np.concatenate((population_ages1, population_ages2))\n",
    "\n",
    "\n",
    "print(population_ages)"
   ]
  },
  {
   "cell_type": "code",
   "execution_count": 58,
   "metadata": {
    "colab": {},
    "colab_type": "code",
    "id": "cjoAG6JxpCDv",
    "outputId": "c9ac06cb-9466-44c2-df59-77c92e69cc26"
   },
   "outputs": [
    {
     "name": "stdout",
     "output_type": "stream",
     "text": [
      "[23 53 52 24 52 29 47 25 35 32 48 21 54 50 25 55 51 28 58 56 46 49 27 63\n",
      " 54 45 49 27 50 58 30 51 50 44 28 30 28 46 49 28 51 61 55 49 26 27 52 53\n",
      " 45 47 26 58 50 62 60 49 29 26 60 53 25 29 54 30 56 28 34 60 46 24 31 53\n",
      " 60 59 64 57 52 49 29 27 44 68 27 55 66 58 51 39 57 48 47 30 26 51 53 55\n",
      " 31 25 25 41 52 27 57 59 31 29 47 51 53 28 62 28 29 52 58 54 50 31 46 31\n",
      " 54 28 52 41 46 47 30 29 49 45 23 50 26 50 48 26 34 49 26 31 27 31 26 61\n",
      " 26 29 28 25 46 33 48 56 51 42 30 30 30 31 39 66 56 42 24 47 33 30 58 63\n",
      " 29 60 25 46 41 52 47 49 23 27 53 48 27 50 58 27 30 51 56 54 43 28 60 44\n",
      " 25 27 21 53 32 63 50 52 53 29 55 49 29 56 47 28 59 33 31 61 32 65 27 27\n",
      " 26 26 39 60 26 51 25 51 28 58 46 28 28 56 28 60 53 56 44 63 25 51 44 47\n",
      " 56 43 57 23 29 53 28 54 28 26 57 54 46 54 26 53 28 58 31 50 54 25 49 29\n",
      " 27 60 28 50 30 52 26 62 33 28 57 52 27 57 46 46 31 56 27 51 24 51 46 23\n",
      " 24 30 26 54 27 27 25 55 34 30 50 55 59 58 34 34 29 26 45 50 49 56 29 54\n",
      " 52 52 23 36 45 29 59 47 27 47 48 46 65 55 31 30 53 29 24 27 30 47 58 26\n",
      " 30 45 46 57 57 28 47 57 60 35 32 26 25 54 22 47 62 25 43 59 24 42 52 47\n",
      " 57 46 51 51 62 45 28 54 61 49 31 57 27 30 50 50 52 28 49 50 49 24 45 31\n",
      " 53 52 26 26 58 32 33 55 61 54 28 31 51 28 52 37 49 57 49 50 32 50 58 51\n",
      " 57 45 52 57 31 29 60 54 56 63 30 48 63 56 49 45 47 53 30 27 24 23 25 55\n",
      " 49 62 54 28 25 28 32 58 27 55 43 47 64 27 25 59 50 27 29 51 54 54 23 26\n",
      " 37 22 26 34 41 29 33 60 29 30 28 57 59 61 27 47 60 47 62 45 42 47 28 24\n",
      " 48 61 41 27 31 48 63 37 31 60 27 60 28 23 64 26 48 54 26 30]\n"
     ]
    }
   ],
   "source": [
    "\n",
    "np.random.seed(6)\n",
    "sample_ages = np.random.choice(a= population_ages,size=500)            # Sample 500 values\n",
    "print(sample_ages)"
   ]
  },
  {
   "cell_type": "code",
   "execution_count": 59,
   "metadata": {
    "colab": {},
    "colab_type": "code",
    "id": "2A5QyPvYpCDz"
   },
   "outputs": [
    {
     "data": {
      "text/plain": [
       "<matplotlib.axes._subplots.AxesSubplot at 0x27236d0520>"
      ]
     },
     "execution_count": 59,
     "metadata": {},
     "output_type": "execute_result"
    },
    {
     "data": {
      "image/png": "[encoded data removed]",
      "text/plain": [
       "<Figure size 720x360 with 2 Axes>"
      ]
     },
     "metadata": {
      "needs_background": "light"
     },
     "output_type": "display_data"
    }
   ],
   "source": [
    "fig,axes = plt.subplots(1,2,figsize=(10,5))\n",
    "sns.distplot(population_ages,ax=axes[0])\n",
    "sns.distplot(sample_ages,ax=axes[1])"
   ]
  },
  {
   "cell_type": "markdown",
   "metadata": {
    "colab_type": "text",
    "id": "gjIvZQiHpCD3"
   },
   "source": [
    "-------------------"
   ]
  },
  {
   "cell_type": "markdown",
   "metadata": {
    "colab_type": "text",
    "id": "ROK992AEpCD5"
   },
   "source": [
    "**Problem:** Provided the Population data and sample data.\n",
    "\n",
    "* a).calculate a 95% confidence for our mean point estimate:\n",
    "    "
   ]
  },
  {
   "cell_type": "code",
   "execution_count": 60,
   "metadata": {
    "colab": {},
    "colab_type": "code",
    "id": "AVno_p7GpCD6",
    "outputId": "30de7c5f-ff2f-4cc0-b011-513773e92df8"
   },
   "outputs": [
    {
     "data": {
      "text/plain": [
       "array([58, 55, 53, ..., 27, 28, 28])"
      ]
     },
     "execution_count": 60,
     "metadata": {},
     "output_type": "execute_result"
    }
   ],
   "source": [
    "np.random.seed(10)\n",
    "population_ages1 = stats.poisson.rvs(loc=18, mu=35, size=150000)\n",
    "population_ages2 = stats.poisson.rvs(loc=18, mu=10, size=100000)\n",
    "population_ages = np.concatenate((population_ages1, population_ages2))\n",
    "\n",
    "population_ages #Population data"
   ]
  },
  {
   "cell_type": "code",
   "execution_count": 61,
   "metadata": {
    "colab": {},
    "colab_type": "code",
    "id": "p07_N5WBpCD_"
   },
   "outputs": [],
   "source": [
    "np.random.seed(10)\n",
    "\n",
    "sample_size = 1000\n",
    "sample = np.random.choice(a= population_ages, size = sample_size)\n",
    "sample_mean = sample.mean()"
   ]
  },
  {
   "cell_type": "markdown",
   "metadata": {
    "colab_type": "text",
    "id": "OqQvegK7pCEC"
   },
   "source": [
    "----------------------"
   ]
  },
  {
   "cell_type": "code",
   "execution_count": null,
   "metadata": {
    "colab": {},
    "colab_type": "code",
    "id": "1WtNmxQ0pCED"
   },
   "outputs": [],
   "source": []
  },
  {
   "cell_type": "markdown",
   "metadata": {
    "colab_type": "text",
    "id": "c5_dwaMNpCEG"
   },
   "source": [
    "**Problem:** . Hours spent on studies by 20 students on a course is given in the following table:**"
   ]
  },
  {
   "cell_type": "markdown",
   "metadata": {
    "colab_type": "raw",
    "id": "CPZQsQUCpCEH"
   },
   "source": [
    "\n",
    "|     |     |     |     |     |\n",
    "| --- | --- | --- | --- | --- |   \n",
    "| 4.7 | 9.2 | 9.3 | 11.2| 8   |\n",
    "| 7.6 | 7.4 | 4.9 | 9.2 | 5.3 | \n",
    "| 1.7 | 2.8 | 7.2 | 12.3| 8.6 |\n",
    "| 10.6| 9   | 5.7 | 6.9 | 3.8 |\n"
   ]
  },
  {
   "cell_type": "markdown",
   "metadata": {
    "colab_type": "text",
    "id": "a6zO-eF1pCEJ"
   },
   "source": [
    "\n",
    "**Assume that the population of hours spent follows a normal distribution and the standard deviation is 3.1 hours, calculate the 90% confidence interval for the mean hours spent by the students.**"
   ]
  },
  {
   "cell_type": "code",
   "execution_count": 62,
   "metadata": {
    "colab": {},
    "colab_type": "code",
    "id": "jaRRB2zIpCEK"
   },
   "outputs": [],
   "source": [
    "import numpy as np\n",
    "H           = [ 4.7, 9.2, 9.3, 11.2, 8, 7.6, 7.4, 4.9, 9.2, 5.3, 1.7, 2.8, 7.2, 12.3, 8.6, 10.6, 9, 5.7, 6.9, 3.8]\n",
    "HoursSpent  = np.array(H)"
   ]
  },
  {
   "cell_type": "code",
   "execution_count": 70,
   "metadata": {
    "colab": {},
    "colab_type": "code",
    "id": "6lLsxFnSpCEO"
   },
   "outputs": [
    {
     "name": "stdout",
     "output_type": "stream",
     "text": [
      "Sample Mean = 7.2700000000000005\n",
      "Zalphaby2 = 1.6448536269514729\n",
      "Standard Error = 0.6931810730249348\n",
      "Upper Limit = 8.410181402099179\n",
      "Lower Limit = 6.129818597900822\n"
     ]
    }
   ],
   "source": [
    "sigma = 3.1\n",
    "alpha = 1 - 0.9\n",
    "xbar = HoursSpent.mean()\n",
    "Zalphaby2  = stats.norm.isf(alpha/2)\n",
    "se = sigma/np.sqrt(len(H))\n",
    "UL = xbar + Zalphaby2*se\n",
    "LL = xbar - Zalphaby2*se\n",
    "print('Sample Mean =',xbar)\n",
    "print('Zalphaby2 =',Zalphaby2)\n",
    "print('Standard Error =',se)\n",
    "print('Upper Limit =',UL)\n",
    "print('Lower Limit =',LL)"
   ]
  },
  {
   "cell_type": "code",
   "execution_count": 71,
   "metadata": {},
   "outputs": [
    {
     "data": {
      "text/plain": [
       "(6.129818597900822, 8.410181402099179)"
      ]
     },
     "execution_count": 71,
     "metadata": {},
     "output_type": "execute_result"
    }
   ],
   "source": [
    "stats.norm.interval(0.9,xbar,se)"
   ]
  },
  {
   "cell_type": "markdown",
   "metadata": {
    "colab_type": "text",
    "id": "URnfuXn_pCER"
   },
   "source": [
    "----------------------"
   ]
  },
  {
   "cell_type": "markdown",
   "metadata": {
    "colab_type": "text",
    "id": "hSyFwdxhpCES"
   },
   "source": [
    "**Problem**). The fill amount in 2-liter soft drink bottles is normally distributed, with a mean of 2.0 liters and a standard deviation of 0.05 liter. If the bottles contain less than 95% of the listed net content (1.90 liters, in our case), the manufacturer may be subject to penalty by the state office of consumer affairs. Bottles that have a net content above 2.1 liters may cause excess spillage upon opening. What is the proportion of bottles that will contain.**\n",
    "\n",
    "* a) below 1.96 liters or above 2.2 liters\n",
    "* b) At least how much soft drink is contained in 90% of the bottles?"
   ]
  },
  {
   "cell_type": "code",
   "execution_count": 72,
   "metadata": {},
   "outputs": [],
   "source": [
    "mu = 2\n",
    "sigma = 0.05"
   ]
  },
  {
   "cell_type": "markdown",
   "metadata": {
    "colab_type": "text",
    "id": "XbNBzSWlpCES"
   },
   "source": [
    "#### a. below 1.96 liters or above 2.2 liters is?\n",
    "-----------"
   ]
  },
  {
   "cell_type": "code",
   "execution_count": 73,
   "metadata": {
    "colab": {},
    "colab_type": "code",
    "id": "cNQ5sVC8pCET"
   },
   "outputs": [
    {
     "data": {
      "text/plain": [
       "0.2118870698252296"
      ]
     },
     "execution_count": 73,
     "metadata": {},
     "output_type": "execute_result"
    }
   ],
   "source": [
    "stats.norm.cdf(1.96,mu,sigma) + stats.norm.sf(2.2,mu,sigma)"
   ]
  },
  {
   "cell_type": "markdown",
   "metadata": {
    "colab_type": "text",
    "id": "RVvlN4n_pCEV"
   },
   "source": [
    "#### b) At least how much soft drink is contained in 90% of the bottles?\n",
    "------------"
   ]
  },
  {
   "cell_type": "code",
   "execution_count": 74,
   "metadata": {
    "colab": {},
    "colab_type": "code",
    "id": "UU31SpqmpCEW"
   },
   "outputs": [
    {
     "data": {
      "text/plain": [
       "1.93592242172277"
      ]
     },
     "execution_count": 74,
     "metadata": {},
     "output_type": "execute_result"
    }
   ],
   "source": [
    "stats.norm.isf(0.9,mu,sigma)"
   ]
  },
  {
   "cell_type": "markdown",
   "metadata": {
    "colab_type": "text",
    "id": "4efJdfM6pCEg"
   },
   "source": [
    "**Problem**). A sample of 100 diabetic patients was chosen to estimate the length of stay at a local hospital. \n",
    "The sample was 4.5 days and the population standard deviation was known to be 1.2 days.**\n",
    "\n",
    "* a) Calculate the 99% confidence interval for the population mean."
   ]
  },
  {
   "cell_type": "markdown",
   "metadata": {
    "colab_type": "text",
    "id": "zJtsgMqdpCEh"
   },
   "source": [
    "**Solution**"
   ]
  },
  {
   "cell_type": "markdown",
   "metadata": {
    "colab_type": "text",
    "id": "J-dWimKxpCEi"
   },
   "source": [
    "a) Calculate the 99% confidence interval for the population mean.\n",
    "\n",
    "It is known that \n",
    "* $\\overline{X}$ = 4.5\n",
    "* $\\sigma$       = 1.2\n",
    "* n              = 100\n",
    "We need to compute $\\overline{X} \\quad \\pm 1.64 \\frac {\\sigma} {\\sqrt{n}}$ "
   ]
  },
  {
   "cell_type": "code",
   "execution_count": 83,
   "metadata": {
    "colab": {},
    "colab_type": "code",
    "id": "4G6qvfvepCEk"
   },
   "outputs": [
    {
     "name": "stdout",
     "output_type": "stream",
     "text": [
      "4.190900483574132 4.809099516425868\n"
     ]
    }
   ],
   "source": [
    "xbar = 4.5\n",
    "n = 100\n",
    "sigma = 1.2\n",
    "cl = 0.99\n",
    "alpha = 1 - cl\n",
    "Zalphaby2 = stats.norm.isf(alpha/2)\n",
    "se = sigma/np.sqrt(n)\n",
    "UL = xbar + Zalphaby2 * se\n",
    "LL = xbar - Zalphaby2 * se\n",
    "print (LL,UL)"
   ]
  },
  {
   "cell_type": "code",
   "execution_count": 82,
   "metadata": {},
   "outputs": [
    {
     "data": {
      "text/plain": [
       "(4.190900483574132, 4.809099516425868)"
      ]
     },
     "execution_count": 82,
     "metadata": {},
     "output_type": "execute_result"
    }
   ],
   "source": [
    "stats.norm.interval(cl,xbar,se)"
   ]
  },
  {
   "cell_type": "markdown",
   "metadata": {
    "colab_type": "text",
    "id": "nyjZb-ZppCEm"
   },
   "source": [
    "---------------------"
   ]
  },
  {
   "cell_type": "markdown",
   "metadata": {
    "colab_type": "text",
    "id": "nEwYyGtApCEm"
   },
   "source": [
    "**Problem**). Time taken to resolve a customer complaints in days of 100 customers in a Service Organization is given below:**"
   ]
  },
  {
   "cell_type": "markdown",
   "metadata": {
    "colab_type": "raw",
    "id": "SeTsnnikpCEn"
   },
   "source": [
    " |      |      |      |      |      |      |      |      |      |      |\n",
    " | ---  | ---- | ---- | ---- | ---- | ---- | ---- | ---- | ---- | ---- |\n",
    " | 2.50 | 3.26 | 2.79 | 3.74 | 5.60 | 3.24 | 3.65 | 3.91 | 4.35 | 3.35 |\n",
    " | 5.67 | 5.38 | 3.54 | 5.10 | 3.66 | 3.01 | 3.96 | 4.98 | 4.56 | 5.00 |\n",
    " | 5.03 | 5.29 | 4.91 | 4.63 | 2.94 | 3.82 | 4.76 | 2.24 | 4.25 | 3.45 |\n",
    " | 3.14 | 4.64 | 4.56 | 4.61 | 2.68 | 3.61 | 5.46 | 2.83 | 4.84 | 4.31 |\n",
    " | 2.98 | 3.90 | 4.45 | 3.62 | 6.15 | 4.04 | 5.19 | 4.63 | 2.78 | 2.95 |\n",
    " | 3.65 | 4.49 | 3.52 | 4.07 | 4.16 | 5.56 | 2.69 | 6.69 | 1.26 | 3.14 |\n",
    " | 4.71 | 4.80 | 3.41 | 3.18 | 4.64 | 4.23 | 4.36 | 3.94 | 3.81 | 4.26 |\n",
    " | 2.92 | 2.87 | 2.08 | 3.09 | 3.60 | 2.93 | 3.85 | 4.66 | 4.70 | 3.61 |\n",
    " | 5.59 | 3.39 | 3.13 | 4.14 | 4.23 | 4.25 | 4.12 | 5.95 | 4.76 | 4.96 |\n",
    " | 2.27 | 3.77 | 5.25 | 3.05 | 3.20 | 5.22 | 3.84 | 2.24 | 4.75 | 3.07 |\n"
   ]
  },
  {
   "cell_type": "markdown",
   "metadata": {
    "colab_type": "text",
    "id": "lpGZ2nbQpCEo"
   },
   "source": [
    "* a. Construct 95% confidence interval estimate for the population mean days to resolve customer complaints,assuming a normal distribution.\n",
    "* b. Interpret the interval constructed at a."
   ]
  },
  {
   "cell_type": "code",
   "execution_count": 86,
   "metadata": {
    "colab": {},
    "colab_type": "code",
    "id": "F3saGSZ8pCEp",
    "outputId": "276cc6ce-0ff6-4e1c-ec16-f85206f7a4f9"
   },
   "outputs": [
    {
     "name": "stdout",
     "output_type": "stream",
     "text": [
      "Mean of length of stay is 4.0000\n",
      "SD of length of stay is 1.000067\n"
     ]
    }
   ],
   "source": [
    "resolved_in_days = [2.50, 3.26, 2.79, 3.74, 5.60, 3.24, 3.65, 3.91, 4.35, 3.35,\\\n",
    "5.67, 5.38, 3.54, 5.10, 3.66, 3.01, 3.96, 4.98, 4.56, 5.00,\\\n",
    "5.03, 5.29, 4.91, 4.63, 2.94, 3.82, 4.76, 2.24, 4.25, 3.45,\\\n",
    "3.14, 4.64, 4.56, 4.61, 2.68, 3.61, 5.46, 2.83, 4.84, 4.31,\\\n",
    "2.98, 3.90, 4.45, 3.62, 6.15, 4.04, 5.19, 4.63, 2.78, 2.95,\\\n",
    "3.65, 4.49, 3.52, 4.07, 4.16, 5.56, 2.69, 6.69, 1.26, 3.14,\\\n",
    "4.71, 4.80, 3.41, 3.18, 4.64, 4.23, 4.36, 3.94, 3.81, 4.26,\\\n",
    "2.92, 2.87, 2.08, 3.09, 3.60, 2.93, 3.85, 4.66, 4.70, 3.61,\\\n",
    "5.59, 3.39, 3.13, 4.14, 4.23, 4.25, 4.12, 5.95, 4.76, 4.96,\\\n",
    "2.27, 3.77, 5.25, 3.05, 3.20, 5.22, 3.84, 2.24, 4.75, 3.07]\n",
    "resolvedDays = np.array(resolved_in_days)\n",
    "lengthStay = np.array(resolved_in_days)\n",
    "avg        = lengthStay.mean(axis = 0)\n",
    "sd         = np.std(lengthStay,ddof = 1)\n",
    "print('Mean of length of stay is %1.4f' % avg)\n",
    "print('SD of length of stay is %1.6f'   % sd)\n",
    "# Here ddof modifies the divisor of the sum of the squares of the samples-minus-mean"
   ]
  },
  {
   "cell_type": "code",
   "execution_count": 90,
   "metadata": {
    "colab": {},
    "colab_type": "code",
    "id": "KR7vbM2ppCEr"
   },
   "outputs": [
    {
     "name": "stdout",
     "output_type": "stream",
     "text": [
      "3.8015650771770293 4.198434922822971\n"
     ]
    }
   ],
   "source": [
    "cl = 0.95\n",
    "alpha = 1 - cl\n",
    "n = len(resolvedDays)\n",
    "Talphaby2 = stats.t.isf((alpha/2),n-1)\n",
    "se = sd/np.sqrt(n)\n",
    "UL = avg + Talphaby2 * se\n",
    "LL = avg - Talphaby2 * se\n",
    "print(LL,UL)"
   ]
  },
  {
   "cell_type": "markdown",
   "metadata": {
    "colab_type": "text",
    "id": "R7SEJe07pCE0"
   },
   "source": [
    "-----------------------"
   ]
  },
  {
   "cell_type": "markdown",
   "metadata": {
    "colab_type": "text",
    "id": "gQ6Y8UeOpCE0"
   },
   "source": [
    "----------------------------"
   ]
  }
 ],
 "metadata": {
  "colab": {
   "name": "Inclass-Lab-Day1-Questions.ipynb",
   "provenance": []
  },
  "kernelspec": {
   "display_name": "Python 3",
   "language": "python",
   "name": "python3"
  },
  "language_info": {
   "codemirror_mode": {
    "name": "ipython",
    "version": 3
   },
   "file_extension": ".py",
   "mimetype": "text/x-python",
   "name": "python",
   "nbconvert_exporter": "python",
   "pygments_lexer": "ipython3",
   "version": "3.8.3"
  }
 },
 "nbformat": 4,
 "nbformat_minor": 1
}
