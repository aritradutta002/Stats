{
 "cells": [
  {
   "cell_type": "code",
   "execution_count": 1,
   "metadata": {},
   "outputs": [],
   "source": [
    "import numpy as np\n",
    "import pandas as pd\n",
    "import matplotlib.pyplot as plt\n",
    "import scipy.stats as stats\n",
    "%matplotlib inline\n",
    "import seaborn as sns"
   ]
  },
  {
   "cell_type": "code",
   "execution_count": 2,
   "metadata": {},
   "outputs": [],
   "source": [
    "# The mean life time of 50 electric bulbs produced by a manufacturing company\n",
    "# is estimated to be 825 hours., If m is the mean life\n",
    "# time of all the bulbs produced by the company test the hypothesis that m = 900 hours , \n",
    "# with a standard deviation of 110 hours  at  5% level of significance.\n"
   ]
  },
  {
   "cell_type": "code",
   "execution_count": 10,
   "metadata": {},
   "outputs": [
    {
     "name": "stdout",
     "output_type": "stream",
     "text": [
      "-4.821182598999187 -1.9599639845400545\n",
      "1.9999985729035068\n"
     ]
    }
   ],
   "source": [
    "n = 50\n",
    "xbar = 825\n",
    "mu = 900\n",
    "sigma = 110\n",
    "alpha = 0.05\n",
    "se = sigma/np.sqrt(n)\n",
    "zstat = (xbar - mu)/se\n",
    "zcrit = stats.norm.ppf(alpha/2)\n",
    "print(zstat,zcrit)\n",
    "pvalue = stats.norm.sf(zstat)*2\n",
    "print(pvalue)"
   ]
  },
  {
   "cell_type": "code",
   "execution_count": 8,
   "metadata": {},
   "outputs": [
    {
     "data": {
      "text/plain": [
       "(794.5101158643071, 855.4898841356929)"
      ]
     },
     "execution_count": 8,
     "metadata": {},
     "output_type": "execute_result"
    }
   ],
   "source": [
    "stats.norm.interval(0.95,xbar,se)"
   ]
  },
  {
   "cell_type": "code",
   "execution_count": 11,
   "metadata": {},
   "outputs": [],
   "source": [
    "# Practice:\n",
    "\n",
    "# The income distribution of the population of a village has a mean of Rs.6000 and a\n",
    "# variance of Rs.32400. Could a sample of 64 persons with a mean income of Rs.5950\n",
    "# belong to this population?\n"
   ]
  },
  {
   "cell_type": "code",
   "execution_count": 17,
   "metadata": {},
   "outputs": [
    {
     "name": "stdout",
     "output_type": "stream",
     "text": [
      "-2.2222222222222223 -1.9599639845400545\n",
      "0.026268291382042234\n"
     ]
    },
    {
     "data": {
      "text/plain": [
       "(5905.900810347849, 5994.099189652151)"
      ]
     },
     "execution_count": 17,
     "metadata": {},
     "output_type": "execute_result"
    }
   ],
   "source": [
    "mu = 6000\n",
    "sigma = np.sqrt(32400)\n",
    "n = 64\n",
    "xbar = 5950\n",
    "se = sigma/np.sqrt(n)\n",
    "zstat = (xbar - mu)/se\n",
    "zcrit = stats.norm.ppf(0.025)\n",
    "print(zstat,zcrit)\n",
    "pvalue = stats.norm.cdf(zstat)*2\n",
    "print(pvalue)\n",
    "stats.norm.interval(0.95,xbar,se)"
   ]
  },
  {
   "cell_type": "code",
   "execution_count": 18,
   "metadata": {},
   "outputs": [],
   "source": [
    "# one tailed:\n",
    "\n",
    "# A sample of 400 bulbs is manufactued found to have a mean lifetime is 171.38 hrs. Can it\n",
    "# reasonably be regarded as a large population with mean  more than 173 hrs\n",
    "# and standard deviation of 3.3 hrs so that company can make profit(Test at 5% level), Will company make profit?\n"
   ]
  },
  {
   "cell_type": "code",
   "execution_count": 20,
   "metadata": {},
   "outputs": [
    {
     "name": "stdout",
     "output_type": "stream",
     "text": [
      "-9.818181818181847 0.0 1.0\n"
     ]
    },
    {
     "data": {
      "text/plain": [
       "(171.05660594255087, 171.70339405744912)"
      ]
     },
     "execution_count": 20,
     "metadata": {},
     "output_type": "execute_result"
    }
   ],
   "source": [
    "n = 400\n",
    "xbar = 171.38\n",
    "mu = 173\n",
    "sigma = 3.3\n",
    "se = sigma/np.sqrt(n)\n",
    "zstat = (xbar - mu)/se\n",
    "zcrit = stats.norm.isf(0.5)\n",
    "pvalue = stats.norm.sf(zstat)\n",
    "print(zstat,zcrit,pvalue)\n",
    "stats.norm.interval(0.95,xbar,se)"
   ]
  },
  {
   "cell_type": "code",
   "execution_count": 21,
   "metadata": {},
   "outputs": [],
   "source": [
    "# Practice:\n",
    "# The random  sample of 200 student from a school is taken and \n",
    "# found that mean I.Q is 100.Is there any chance that IQ of the school is more than 102  and standard deviation is 15 .\n",
    "#Test at 5%  level of significance).\n"
   ]
  },
  {
   "cell_type": "code",
   "execution_count": null,
   "metadata": {},
   "outputs": [],
   "source": []
  },
  {
   "cell_type": "code",
   "execution_count": 22,
   "metadata": {},
   "outputs": [],
   "source": [
    "# two tail t test:\n",
    "\n",
    "# A premium golf ball production line must produce all of its balls to 1.615 \n",
    "#ounces in order to get the top rating (and therefore the top dollar). \n",
    "#Samples are drawn hourly and checked. If the production line gets out of \n",
    "#sync with a statistical significance of more than 1%, it must be shut down and\n",
    "# repaired. This hour’s sample of 18 balls has a mean of 1.611 ounces \n",
    "#and a standard deviation of 0.065 ounces. Do you shut down the line?\n"
   ]
  },
  {
   "cell_type": "code",
   "execution_count": 27,
   "metadata": {},
   "outputs": [
    {
     "name": "stdout",
     "output_type": "stream",
     "text": [
      "-0.26108558074580235 -2.8982305196347173 1.202836901605419\n"
     ]
    }
   ],
   "source": [
    "xbar = 1.611\n",
    "s = 0.065\n",
    "mu = 1.615\n",
    "n = 18\n",
    "alpha = 0.01\n",
    "se = s/np.sqrt(n)\n",
    "tstat = (xbar - mu)/se\n",
    "tcrit = stats.t.ppf(alpha/2,n-1)\n",
    "pvalue = stats.t.sf(tstat,n-1)*2\n",
    "print(tstat,tcrit,pvalue)"
   ]
  },
  {
   "cell_type": "code",
   "execution_count": 28,
   "metadata": {},
   "outputs": [],
   "source": [
    "# one tail t test:\n",
    "\n",
    "# An alternator manufacturer must produce its alternators so that they are 95% confident that\n",
    "# it runs at less than 71.1o C under stress test in order to meet the production requirements for sale to the\n",
    "# US government. The stress test is performed on random samples drawn from the production line on a\n",
    "# daily basis. Today’s sample of 7 alternators has a mean of 71.3o C and a standard deviation of 0.214o C\n",
    "# . Is there a production quality issue?\n"
   ]
  },
  {
   "cell_type": "code",
   "execution_count": 32,
   "metadata": {},
   "outputs": [
    {
     "name": "stdout",
     "output_type": "stream",
     "text": [
      "2.4726647766959142 0.024141478825914418\n"
     ]
    }
   ],
   "source": [
    "n = 7\n",
    "xbar = 71.3\n",
    "s = 0.214\n",
    "mu = 71.1\n",
    "se = s/np.sqrt(n)\n",
    "tstat = (xbar - mu)/se\n",
    "pvalue = stats.t.sf(tstat,n-1)\n",
    "print(tstat,pvalue)"
   ]
  },
  {
   "cell_type": "code",
   "execution_count": null,
   "metadata": {},
   "outputs": [],
   "source": []
  }
 ],
 "metadata": {
  "kernelspec": {
   "display_name": "Python 3",
   "language": "python",
   "name": "python3"
  },
  "language_info": {
   "codemirror_mode": {
    "name": "ipython",
    "version": 3
   },
   "file_extension": ".py",
   "mimetype": "text/x-python",
   "name": "python",
   "nbconvert_exporter": "python",
   "pygments_lexer": "ipython3",
   "version": "3.8.3"
  }
 },
 "nbformat": 4,
 "nbformat_minor": 4
}
