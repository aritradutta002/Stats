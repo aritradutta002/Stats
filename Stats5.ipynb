{
 "cells": [
  {
   "cell_type": "code",
   "execution_count": 1,
   "metadata": {},
   "outputs": [],
   "source": [
    "import numpy as np\n",
    "import pandas as pd\n",
    "import matplotlib.pyplot as plt\n",
    "import scipy.stats as stats\n",
    "%matplotlib inline\n",
    "import seaborn as sns"
   ]
  },
  {
   "cell_type": "code",
   "execution_count": 13,
   "metadata": {},
   "outputs": [],
   "source": [
    "#A consumer forum suspects that 300 gm pack of Narasu’s Coffee, is underweight.  The forum wants to check this by collecting a sample and using a 0.05 level of significance.\n",
    "s_mean =297\n",
    "sigma =18\n",
    "n=36\n",
    "mu = 300"
   ]
  },
  {
   "cell_type": "code",
   "execution_count": 6,
   "metadata": {},
   "outputs": [],
   "source": [
    "# S1: H0: mu >=300 H1: mu<300  (left tail test)\n",
    "# S2: alpha = 5%\n",
    "# S3: Z test , Z stat=? (xbar-mu)/se\n",
    "# S4: "
   ]
  },
  {
   "cell_type": "code",
   "execution_count": 9,
   "metadata": {},
   "outputs": [
    {
     "data": {
      "text/plain": [
       "-1.0"
      ]
     },
     "execution_count": 9,
     "metadata": {},
     "output_type": "execute_result"
    }
   ],
   "source": [
    "se = sigma/np.sqrt(n)\n",
    "z_stat = (s_mean - mu)/se\n",
    "z_stat"
   ]
  },
  {
   "cell_type": "code",
   "execution_count": 10,
   "metadata": {},
   "outputs": [
    {
     "name": "stdout",
     "output_type": "stream",
     "text": [
      "-1.0 -1.6448536269514722\n"
     ]
    }
   ],
   "source": [
    "# S4: CVA : zcritical\n",
    "zcrit = stats.norm.ppf(1-0.95)\n",
    "print(z_stat,zcrit)"
   ]
  },
  {
   "cell_type": "code",
   "execution_count": 11,
   "metadata": {},
   "outputs": [
    {
     "name": "stdout",
     "output_type": "stream",
     "text": [
      "0.050000000000000044 0.15865525393145707\n"
     ]
    }
   ],
   "source": [
    "# According to Critical Value Approach(CVA) , since mod(Z stat) is less than mod(Zcrit) - accept H0\n",
    "pvalue = stats.norm.cdf(z_stat)\n",
    "print(1-0.95,pvalue)"
   ]
  },
  {
   "cell_type": "code",
   "execution_count": 12,
   "metadata": {},
   "outputs": [],
   "source": [
    "# According to Probability Value Approach (PVA) since pvalue is greater than alpha , accept H0"
   ]
  },
  {
   "cell_type": "code",
   "execution_count": 15,
   "metadata": {},
   "outputs": [
    {
     "data": {
      "text/plain": [
       "(291.1201080463798, 302.8798919536202)"
      ]
     },
     "execution_count": 15,
     "metadata": {},
     "output_type": "execute_result"
    }
   ],
   "source": [
    "stats.norm.interval(0.95,s_mean,se)"
   ]
  },
  {
   "cell_type": "code",
   "execution_count": 16,
   "metadata": {},
   "outputs": [],
   "source": [
    "# According to Confidence Interval Approach(CIA) , since population mean (300) lies between Ul and LL , accept H0"
   ]
  },
  {
   "cell_type": "code",
   "execution_count": null,
   "metadata": {},
   "outputs": [],
   "source": [
    "# S5: Claim is rejected."
   ]
  }
 ],
 "metadata": {
  "kernelspec": {
   "display_name": "Python 3",
   "language": "python",
   "name": "python3"
  },
  "language_info": {
   "codemirror_mode": {
    "name": "ipython",
    "version": 3
   },
   "file_extension": ".py",
   "mimetype": "text/x-python",
   "name": "python",
   "nbconvert_exporter": "python",
   "pygments_lexer": "ipython3",
   "version": "3.8.3"
  }
 },
 "nbformat": 4,
 "nbformat_minor": 4
}
