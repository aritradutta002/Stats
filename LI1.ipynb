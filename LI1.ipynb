{
 "cells": [
  {
   "cell_type": "code",
   "execution_count": 1,
   "metadata": {},
   "outputs": [],
   "source": [
    "import numpy as np\n",
    "import pandas as pd\n",
    "import matplotlib.pyplot as plt\n",
    "import scipy.stats as stats\n",
    "%matplotlib inline\n",
    "import seaborn as sns"
   ]
  },
  {
   "cell_type": "code",
   "execution_count": 2,
   "metadata": {},
   "outputs": [],
   "source": [
    "# There are totally 50 ships in a port.If on an average 1 ship out of 10 do not arrive safely to ports. \n",
    "\n",
    "# i) Probability of getting exactly 3 ship to sink\n",
    "# ii) Probability of getting atleast 3 ship to sink\n",
    "# iii) Probability of getting atmost 3 ship to sink\n",
    "# iv) Probability of getting between 3 and 10 ships to sink\n",
    "# pmf\n",
    "# cdf\n"
   ]
  },
  {
   "cell_type": "code",
   "execution_count": 9,
   "metadata": {},
   "outputs": [
    {
     "name": "stdout",
     "output_type": "stream",
     "text": [
      "0.13856514960695693\n",
      "0.8882712436536526\n",
      "0.2502939059533075\n",
      "0.725168158342101\n"
     ]
    }
   ],
   "source": [
    "n = 50\n",
    "p = 0.1\n",
    "x1 = 3\n",
    "print(stats.binom.pmf(x1,n,p))\n",
    "print(stats.binom.sf(x1-1,n,p))\n",
    "print(stats.binom.cdf(x1,n,p))\n",
    "x2 = 10\n",
    "print(stats.binom.cdf(x2-1,n,p) - stats.binom.cdf(x1,n,p))"
   ]
  },
  {
   "cell_type": "code",
   "execution_count": 10,
   "metadata": {},
   "outputs": [],
   "source": [
    "# 1. A pair of dice is thrown 10 times. If getting a doublet is\n",
    "# considered a success find the probability of (i) exactly 4 success (ii)altest 4 success iii) atmost four success\n",
    "# v) between 2 and 5 success vi) pmf vii)cdf\n"
   ]
  },
  {
   "cell_type": "code",
   "execution_count": 15,
   "metadata": {},
   "outputs": [
    {
     "name": "stdout",
     "output_type": "stream",
     "text": [
      "0.054265875850988216\n",
      "0.06972784255448863\n",
      "0.9845380332964996\n",
      "0.20931123542524\n"
     ]
    }
   ],
   "source": [
    "n = 10\n",
    "p = 1/6\n",
    "x1 = 4\n",
    "print(stats.binom.pmf(x1,n,p))\n",
    "print(stats.binom.sf(x1-1,n,p))\n",
    "print(stats.binom.cdf(x1,n,p))\n",
    "x2 = 5\n",
    "x3 = 2\n",
    "print(stats.binom.cdf(x2-1,n,p) - stats.binom.cdf(x3,n,p))"
   ]
  },
  {
   "cell_type": "code",
   "execution_count": 20,
   "metadata": {},
   "outputs": [
    {
     "data": {
      "image/png": "[encoded data removed]",
      "text/plain": [
       "<Figure size 432x288 with 1 Axes>"
      ]
     },
     "metadata": {
      "needs_background": "light"
     },
     "output_type": "display_data"
    }
   ],
   "source": [
    "pmf = []\n",
    "cdf = []\n",
    "for i in range(11):\n",
    "    pmf.append(stats.binom.pmf(i,n,p))\n",
    "    cdf.append(stats.binom.cdf(i,n,p))\n",
    "plt.plot(list(range(11)),pmf,'o-')\n",
    "plt.plot(list(range(11)),cdf,'o-')\n",
    "plt.show()"
   ]
  },
  {
   "cell_type": "code",
   "execution_count": 21,
   "metadata": {},
   "outputs": [],
   "source": [
    "# Practice:\n",
    "\n",
    "# 1. A pair of dice is thrown 10 times. If getting a doublet is\n",
    "# considered a success find the probability of (i) exactly 4 success (ii)atleast 4 success iii) atmost four success\n",
    "# v) between 2 and 5 success vi) pmf vii)cdf\n",
    "\n",
    "# 2. Four coins are tossed simultaneously. What is the probability of getting\n",
    "# (a) exactly 2 heads (b) at least two heads (c) at most two heads.\n",
    "\n",
    "\n",
    "\n",
    "# 3. In a hurdle race a player has to cross 10 hurdles. The probability that he\n",
    "# will clear each hurdle is 5/6. What is the probability that he will knock\n",
    "# down less than 2 hurdles.\n"
   ]
  },
  {
   "cell_type": "code",
   "execution_count": 22,
   "metadata": {},
   "outputs": [],
   "source": [
    "# Suppose that the probability of suffering a side effect from a\n",
    "# certain vaccine is 0.005. If 1000 persons are treated, find approximately the\n",
    "# probability that \n",
    "\n",
    "#(i) exactly 2 person suffer.\n",
    "#(ii) atleast 2 person suffer.\n",
    "#(iii) atmost 2 person suffer.\n",
    "#(iv) between 2 and 5 person suffer.\n",
    "# pmf amd cdf\n"
   ]
  },
  {
   "cell_type": "code",
   "execution_count": 30,
   "metadata": {},
   "outputs": [
    {
     "name": "stdout",
     "output_type": "stream",
     "text": [
      "0.08422433748856832\n",
      "0.9595723180054873\n",
      "0.12465201948308108\n",
      "0.3158412655821315\n"
     ]
    }
   ],
   "source": [
    "lamda = 0.005*1000\n",
    "x1 = 2\n",
    "print(stats.poisson.pmf(x1,lamda))\n",
    "print(stats.poisson.sf(x1-1,lamda))\n",
    "print(stats.poisson.cdf(x1,lamda))\n",
    "x2 = 5\n",
    "print(stats.poisson.cdf(x2-1,lamda) - stats.poisson.cdf(x1,lamda))"
   ]
  },
  {
   "cell_type": "code",
   "execution_count": 31,
   "metadata": {},
   "outputs": [],
   "source": [
    "#  The air pressure in a randomly selected tyre put on a certain\n",
    "# model new car is normally distributed with mean value 31 psi and standard\n",
    "# deviation 0.2 psi.\n",
    "\n",
    "\n",
    "#What is the probability that the pressure for a randomly selected tyre\n",
    "# (a) between 30.5 and 31.5 psi \n",
    "# (b) between 30 and 32 psi\n",
    "# (c) What is the probability that the pressure for a randomly selected tyre\n",
    "# exceeds 30.5 psi ? \n"
   ]
  },
  {
   "cell_type": "code",
   "execution_count": 37,
   "metadata": {},
   "outputs": [
    {
     "name": "stdout",
     "output_type": "stream",
     "text": [
      "0.9875806693484477\n",
      "0.9999994266968562\n",
      "0.9937903346742238\n"
     ]
    }
   ],
   "source": [
    "mu = 31\n",
    "sigma = 0.2\n",
    "print(stats.norm.cdf(31.5,mu,sigma) - stats.norm.cdf(30.5,mu,sigma))\n",
    "print(stats.norm.cdf(32,mu,sigma) - stats.norm.cdf(30,mu,sigma))\n",
    "print(stats.norm.sf(30.5,mu,sigma))"
   ]
  },
  {
   "cell_type": "code",
   "execution_count": 38,
   "metadata": {},
   "outputs": [],
   "source": [
    "# Practice:\n",
    "#1)\n",
    "# The life of shoes is normally distributed with mean 8 months and\n",
    "# standard deviation 2 months. If 5000 pairs are issued, how many pairs\n",
    "# would be expected to need replacement within 12 months. \n"
   ]
  },
  {
   "cell_type": "code",
   "execution_count": 43,
   "metadata": {},
   "outputs": [
    {
     "data": {
      "text/plain": [
       "4886.2493402591035"
      ]
     },
     "execution_count": 43,
     "metadata": {},
     "output_type": "execute_result"
    }
   ],
   "source": [
    "mu = 8\n",
    "sigma = 2\n",
    "x = 12\n",
    "stats.norm.cdf(x,mu,sigma)*5000"
   ]
  },
  {
   "cell_type": "code",
   "execution_count": 44,
   "metadata": {},
   "outputs": [],
   "source": [
    "#  If the probability of a defective fuse from a manufacturing unit is 2% in a\n",
    "# box of 200 fuses find the probability that\n",
    "#  (i) exactly 4 fuses are defective (ii) more than 3 fuses are defective\n",
    "#  If a book publishing company takes a great pain to\n",
    "# ensure that his books are free of typological errors, so that the probability of any\n",
    "# given page containing atleast one such error is 0.005 and errors are independent\n",
    "# from page to page  what is the probability that one of its 400 page novels\n",
    "# (i) will contain exactly one page with error.\n",
    "#(ii) atmost three pages with errors. \n"
   ]
  },
  {
   "cell_type": "code",
   "execution_count": 45,
   "metadata": {},
   "outputs": [],
   "source": [
    "# Practice:\n",
    "\n",
    "# The number of accidents in a year involving in village follows\n",
    "# a Poisson distribution with mean equal to 3(n*p). Out of 100 taxi drivers find\n",
    "# approximately the number of drivers with (i) no accident in a year\n",
    "# (ii) more than 3 accidents in a year\n",
    "# iii) upto 3 accident in a year\n",
    "# iv) between 2 and 4 in a year\n"
   ]
  },
  {
   "cell_type": "code",
   "execution_count": 46,
   "metadata": {},
   "outputs": [],
   "source": [
    "#1)\n",
    "# The life of shoes is normally distributed with mean 8 months and\n",
    "# standard deviation 2 months. If 5000 pairs are issued, how many pairs\n",
    "# would be expected to need replacement within 12 months. \n",
    "# Practice :\n",
    "# 2)\n",
    "# The mean weight of 500 male students in a certain college in 151\n",
    "# pounds and the standard deviation is 15 pounds. Assuming the weights\n",
    "# are normally distributed, find how many students weigh (i) between\n",
    "# 120 and 155 pounds (ii) more than 185 pounds\n",
    "# Practice :\n",
    "# 3)If the height of 300 students are normally distributed with mean 64.5\n",
    "# inches and standard deviation 3.3 inches, find the height below which\n",
    "# 99% of the student lie.\n"
   ]
  },
  {
   "cell_type": "code",
   "execution_count": 2,
   "metadata": {},
   "outputs": [
    {
     "data": {
      "text/plain": [
       "0.5857543024471563"
      ]
     },
     "execution_count": 2,
     "metadata": {},
     "output_type": "execute_result"
    }
   ],
   "source": [
    "n = 500\n",
    "mu = 151\n",
    "sigma = 15\n",
    "stats.norm.cdf(155,mu,sigma) - stats.norm.cdf(120,mu,sigma)"
   ]
  },
  {
   "cell_type": "code",
   "execution_count": 3,
   "metadata": {},
   "outputs": [
    {
     "data": {
      "text/plain": [
       "0.011705298080558346"
      ]
     },
     "execution_count": 3,
     "metadata": {},
     "output_type": "execute_result"
    }
   ],
   "source": [
    "stats.norm.sf(185,mu,sigma)"
   ]
  },
  {
   "cell_type": "code",
   "execution_count": null,
   "metadata": {},
   "outputs": [],
   "source": [
    "n = 300\n",
    "mu = 64.5\n",
    "sigma = 3.3\n",
    "stats.norm.ppf(0.)"
   ]
  }
 ],
 "metadata": {
  "kernelspec": {
   "display_name": "Python 3",
   "language": "python",
   "name": "python3"
  },
  "language_info": {
   "codemirror_mode": {
    "name": "ipython",
    "version": 3
   },
   "file_extension": ".py",
   "mimetype": "text/x-python",
   "name": "python",
   "nbconvert_exporter": "python",
   "pygments_lexer": "ipython3",
   "version": "3.8.3"
  }
 },
 "nbformat": 4,
 "nbformat_minor": 4
}
