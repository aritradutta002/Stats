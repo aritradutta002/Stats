{
 "cells": [
  {
   "cell_type": "markdown",
   "metadata": {
    "colab_type": "text",
    "id": "OhqLRYxTrFYD"
   },
   "source": [
    "# ANOVA and Chi Square "
   ]
  },
  {
   "cell_type": "markdown",
   "metadata": {
    "colab_type": "text",
    "id": "SFv1J367rFYG"
   },
   "source": [
    "### Practice Exercise 1"
   ]
  },
  {
   "cell_type": "markdown",
   "metadata": {
    "colab_type": "text",
    "id": "oNwi3EEyrFYH"
   },
   "source": [
    "A company makes three types of electronic device.\n",
    "Life time in hours for each type of electronic device is given below:\n",
    "\n",
    "* life_type_A = [ 407, 411, 409 ]\n",
    "* life_type_B = [ 404, 406, 408, 405, 402 ]\n",
    "* ife_type_C  = [ 410, 408, 406, 408]"
   ]
  },
  {
   "cell_type": "markdown",
   "metadata": {
    "colab_type": "text",
    "id": "aD6YHcbVrFYI"
   },
   "source": [
    "### Hint"
   ]
  },
  {
   "cell_type": "code",
   "execution_count": 2,
   "metadata": {
    "colab": {},
    "colab_type": "code",
    "id": "H5o2MNzbrFYJ"
   },
   "outputs": [],
   "source": [
    "import pandas            as pd\n",
    "import numpy             as np\n",
    "import matplotlib.pyplot as plt\n",
    "import seaborn           as sns"
   ]
  },
  {
   "cell_type": "code",
   "execution_count": 3,
   "metadata": {
    "colab": {},
    "colab_type": "code",
    "id": "IxzE3hDQrFYO"
   },
   "outputs": [],
   "source": [
    "life_type_A = np.array([407, 411, 409 ])\n",
    "life_type_B = np.array([404, 406, 408, 405, 402 ])\n",
    "life_type_C  = np.array([410, 408, 406, 408])"
   ]
  },
  {
   "cell_type": "code",
   "execution_count": 4,
   "metadata": {
    "colab": {},
    "colab_type": "code",
    "id": "-baVUufKrFYR"
   },
   "outputs": [],
   "source": [
    "life_type_df = pd.DataFrame()\n",
    "\n",
    "df1            = pd.DataFrame({'Type': 'A', 'Life_hours':life_type_A})\n",
    "df2            = pd.DataFrame({'Type': 'B', 'Life_hours':life_type_B})\n",
    "df3            = pd.DataFrame({'Type': 'C', 'Life_hours':life_type_C})\n",
    "\n",
    "life_type_df = life_type_df.append(df1) \n",
    "life_type_df = life_type_df.append(df2) \n",
    "life_type_df = life_type_df.append(df3) "
   ]
  },
  {
   "cell_type": "markdown",
   "metadata": {
    "colab_type": "text",
    "id": "dsBXZpW6rFYV"
   },
   "source": [
    "### A side by side boxplot is one of the best way to compare group locations, spreads and shapes."
   ]
  },
  {
   "cell_type": "code",
   "execution_count": 5,
   "metadata": {
    "colab": {},
    "colab_type": "code",
    "id": "1l6yvvLRrFYW",
    "outputId": "e0ccf9e6-a55f-4669-eb2b-f6288d3484cd"
   },
   "outputs": [
    {
     "data": {
      "image/png": "[encoded data removed]",
      "text/plain": [
       "<Figure size 432x288 with 1 Axes>"
      ]
     },
     "metadata": {
      "needs_background": "light"
     },
     "output_type": "display_data"
    }
   ],
   "source": [
    "sns.boxplot(x = \"Type\", y = \"Life_hours\", data = life_type_df)\n",
    "plt.title('Mean Life_hours by  types')\n",
    "plt.show()"
   ]
  },
  {
   "cell_type": "markdown",
   "metadata": {
    "colab_type": "text",
    "id": "N_qMkk7OrFYb"
   },
   "source": [
    "### a)  Write your inferene on the group means from the above boxplots."
   ]
  },
  {
   "cell_type": "markdown",
   "metadata": {
    "colab_type": "raw",
    "collapsed": true,
    "id": "Jtbfqx0WrFYc"
   },
   "source": [
    "#### The boxplots show almost dissimilar shapes, location and spreads and there is no outlier."
   ]
  },
  {
   "cell_type": "markdown",
   "metadata": {
    "colab_type": "text",
    "id": "arzymC_hrFYd"
   },
   "source": [
    "### b)  At 5% level of significance, is there any difference in the average lifetimes of the three types?"
   ]
  },
  {
   "cell_type": "code",
   "execution_count": 6,
   "metadata": {
    "colab": {},
    "colab_type": "code",
    "id": "gwSTtphKrFYe"
   },
   "outputs": [],
   "source": [
    "import scipy.stats             as     stats"
   ]
  },
  {
   "cell_type": "code",
   "execution_count": 7,
   "metadata": {
    "colab": {},
    "colab_type": "code",
    "id": "J4h6jNFKrFYh",
    "outputId": "da1bcd2a-4526-4bad-eda5-3c6067a12b06"
   },
   "outputs": [
    {
     "name": "stdout",
     "output_type": "stream",
     "text": [
      "F critical value for 2 and 9 df with .95 confidence 4.26\n"
     ]
    }
   ],
   "source": [
    "crit = stats.f.ppf(q = 1-0.05, dfn = 2, dfd = 9)\n",
    "print('F critical value for 2 and 9 df with .95 confidence %3.2f' %crit)"
   ]
  },
  {
   "cell_type": "code",
   "execution_count": 8,
   "metadata": {
    "colab": {},
    "colab_type": "code",
    "id": "TlQisVrqrFYk",
    "outputId": "4676dc4e-07d6-4130-a194-03ace3169141"
   },
   "outputs": [
    {
     "name": "stdout",
     "output_type": "stream",
     "text": [
      "P value for 2 and 9 df with .95 confidence for the calculated F value 0.04419\n"
     ]
    }
   ],
   "source": [
    "p_value = 1 -stats.f.cdf(4.5, dfn = 2, dfd = 9)\n",
    "print('P value for 2 and 9 df with .95 confidence for the calculated F value %3.5f' % p_value)"
   ]
  },
  {
   "cell_type": "code",
   "execution_count": 9,
   "metadata": {
    "colab": {},
    "colab_type": "code",
    "id": "WlFZtRLRrFYo",
    "outputId": "381b85bb-eec1-4101-884f-140c6edef7d4"
   },
   "outputs": [
    {
     "name": "stdout",
     "output_type": "stream",
     "text": [
      "          sum_sq   df    F    PR(>F)\n",
      "Type        36.0  2.0  4.5  0.044194\n",
      "Residual    36.0  9.0  NaN       NaN\n"
     ]
    }
   ],
   "source": [
    "import statsmodels.api         as     sm\n",
    "from   statsmodels.formula.api import ols\n",
    " \n",
    "mod = ols('Life_hours ~ Type', data = life_type_df).fit()\n",
    "aov_table = sm.stats.anova_lm(mod, typ=2)\n",
    "print(aov_table)"
   ]
  },
  {
   "cell_type": "markdown",
   "metadata": {
    "colab_type": "text",
    "id": "VPah01ggrFYr"
   },
   "source": [
    "### c)  If  you were able to reject the null hypothesis, you can proceed with post-hoc analysis to determine which means are different "
   ]
  },
  {
   "cell_type": "markdown",
   "metadata": {
    "colab_type": "raw",
    "collapsed": true,
    "id": "DwsoUDAarFYs"
   },
   "source": [
    "In this example, p value is 0.044194 and it is less than our chosen level of signifance at 5%\n",
    "\n",
    "So the statistical decision is to reject the null hypothesis at 5% level of significance.\n",
    "\n",
    "### So there is  sufficient evidence  to reject the null hypothesis that there IS ATLEAST ONE \n",
    "###difference in the average lifetimes of the three TYPES."
   ]
  },
  {
   "cell_type": "code",
   "execution_count": 10,
   "metadata": {
    "colab": {},
    "colab_type": "code",
    "id": "Lxgd6HImrFYt",
    "outputId": "1aa8a809-ca61-4c38-b1f4-2ea0ab331e00"
   },
   "outputs": [
    {
     "name": "stdout",
     "output_type": "stream",
     "text": [
      "Multiple Comparison of Means - Tukey HSD, FWER=0.05\n",
      "===================================================\n",
      "group1 group2 meandiff p-adj   lower  upper  reject\n",
      "---------------------------------------------------\n",
      "     A      B     -4.0 0.0541 -8.0746 0.0746  False\n",
      "     A      C     -1.0 0.7824 -5.2613 3.2613  False\n",
      "     B      C      3.0 0.1177 -0.7427 6.7427  False\n",
      "---------------------------------------------------\n"
     ]
    }
   ],
   "source": [
    "from statsmodels.stats.multicomp import pairwise_tukeyhsd\n",
    "print(pairwise_tukeyhsd(life_type_df['Life_hours'],life_type_df['Type']))"
   ]
  },
  {
   "cell_type": "markdown",
   "metadata": {
    "colab_type": "text",
    "id": "cvJwpfZmrFYw"
   },
   "source": [
    "### Practice Exercise 2"
   ]
  },
  {
   "cell_type": "code",
   "execution_count": 11,
   "metadata": {
    "colab": {},
    "colab_type": "code",
    "id": "eIp3G-OqrFYx"
   },
   "outputs": [],
   "source": [
    "table1  = [['Day','Store-A','Store-B','Store-C','Store-D','Store-E'], [1,69, 71, 64, 67, 56],\\\n",
    "           [2, 68, 76, 79, 87, 76], [3, 71, 77, 74, 84, 72], [4, 70, 73, 71, 78, 73], [5, 60, 64, 67, 79, 58]]"
   ]
  },
  {
   "cell_type": "code",
   "execution_count": 12,
   "metadata": {
    "colab": {},
    "colab_type": "code",
    "id": "kvxcXkggrFY0",
    "outputId": "aed5885c-1fed-4cef-ff02-5017b1570b02"
   },
   "outputs": [
    {
     "name": "stdout",
     "output_type": "stream",
     "text": [
      "   Day  Store-A  Store-B  Store-C  Store-D  Store-E\n",
      "0    1       69       71       64       67       56\n",
      "1    2       68       76       79       87       76\n",
      "2    3       71       77       74       84       72\n",
      "3    4       70       73       71       78       73\n",
      "4    5       60       64       67       79       58\n"
     ]
    }
   ],
   "source": [
    "\n",
    "headers = table1.pop(0) #\n",
    "\n",
    "df1 = pd.DataFrame(table1, columns=headers)\n",
    "print(df1)"
   ]
  },
  {
   "cell_type": "code",
   "execution_count": 13,
   "metadata": {
    "colab": {},
    "colab_type": "code",
    "id": "bSRrJjD-rFY7"
   },
   "outputs": [],
   "source": [
    "d0_val  = df1['Day'].values\n",
    "d1_val  = df1['Store-A'].values\n",
    "d2_val  = df1['Store-B'].values\n",
    "d3_val  = df1['Store-C'].values\n",
    "d4_val  = df1['Store-D'].values\n",
    "d5_val  = df1['Store-E'].values"
   ]
  },
  {
   "cell_type": "code",
   "execution_count": 14,
   "metadata": {
    "colab": {},
    "colab_type": "code",
    "id": "3SkeW-XBrFZA",
    "outputId": "5f7208bf-496b-46fe-f9ec-24e1a3ad63b5"
   },
   "outputs": [
    {
     "data": {
      "text/html": [
       "<div>\n",
       "<style scoped>\n",
       "    .dataframe tbody tr th:only-of-type {\n",
       "        vertical-align: middle;\n",
       "    }\n",
       "\n",
       "    .dataframe tbody tr th {\n",
       "        vertical-align: top;\n",
       "    }\n",
       "\n",
       "    .dataframe thead th {\n",
       "        text-align: right;\n",
       "    }\n",
       "</style>\n",
       "<table border=\"1\" class=\"dataframe\">\n",
       "  <thead>\n",
       "    <tr style=\"text-align: right;\">\n",
       "      <th></th>\n",
       "      <th>Day</th>\n",
       "      <th>Store</th>\n",
       "      <th>QoS</th>\n",
       "    </tr>\n",
       "  </thead>\n",
       "  <tbody>\n",
       "    <tr>\n",
       "      <th>0</th>\n",
       "      <td>1</td>\n",
       "      <td>A</td>\n",
       "      <td>69</td>\n",
       "    </tr>\n",
       "    <tr>\n",
       "      <th>1</th>\n",
       "      <td>2</td>\n",
       "      <td>A</td>\n",
       "      <td>68</td>\n",
       "    </tr>\n",
       "    <tr>\n",
       "      <th>2</th>\n",
       "      <td>3</td>\n",
       "      <td>A</td>\n",
       "      <td>71</td>\n",
       "    </tr>\n",
       "    <tr>\n",
       "      <th>3</th>\n",
       "      <td>4</td>\n",
       "      <td>A</td>\n",
       "      <td>70</td>\n",
       "    </tr>\n",
       "    <tr>\n",
       "      <th>4</th>\n",
       "      <td>5</td>\n",
       "      <td>A</td>\n",
       "      <td>60</td>\n",
       "    </tr>\n",
       "    <tr>\n",
       "      <th>0</th>\n",
       "      <td>1</td>\n",
       "      <td>B</td>\n",
       "      <td>71</td>\n",
       "    </tr>\n",
       "    <tr>\n",
       "      <th>1</th>\n",
       "      <td>2</td>\n",
       "      <td>B</td>\n",
       "      <td>76</td>\n",
       "    </tr>\n",
       "    <tr>\n",
       "      <th>2</th>\n",
       "      <td>3</td>\n",
       "      <td>B</td>\n",
       "      <td>77</td>\n",
       "    </tr>\n",
       "    <tr>\n",
       "      <th>3</th>\n",
       "      <td>4</td>\n",
       "      <td>B</td>\n",
       "      <td>73</td>\n",
       "    </tr>\n",
       "    <tr>\n",
       "      <th>4</th>\n",
       "      <td>5</td>\n",
       "      <td>B</td>\n",
       "      <td>64</td>\n",
       "    </tr>\n",
       "    <tr>\n",
       "      <th>0</th>\n",
       "      <td>1</td>\n",
       "      <td>C</td>\n",
       "      <td>64</td>\n",
       "    </tr>\n",
       "    <tr>\n",
       "      <th>1</th>\n",
       "      <td>2</td>\n",
       "      <td>C</td>\n",
       "      <td>79</td>\n",
       "    </tr>\n",
       "    <tr>\n",
       "      <th>2</th>\n",
       "      <td>3</td>\n",
       "      <td>C</td>\n",
       "      <td>74</td>\n",
       "    </tr>\n",
       "    <tr>\n",
       "      <th>3</th>\n",
       "      <td>4</td>\n",
       "      <td>C</td>\n",
       "      <td>71</td>\n",
       "    </tr>\n",
       "    <tr>\n",
       "      <th>4</th>\n",
       "      <td>5</td>\n",
       "      <td>C</td>\n",
       "      <td>67</td>\n",
       "    </tr>\n",
       "    <tr>\n",
       "      <th>0</th>\n",
       "      <td>1</td>\n",
       "      <td>D</td>\n",
       "      <td>67</td>\n",
       "    </tr>\n",
       "    <tr>\n",
       "      <th>1</th>\n",
       "      <td>2</td>\n",
       "      <td>D</td>\n",
       "      <td>87</td>\n",
       "    </tr>\n",
       "    <tr>\n",
       "      <th>2</th>\n",
       "      <td>3</td>\n",
       "      <td>D</td>\n",
       "      <td>84</td>\n",
       "    </tr>\n",
       "    <tr>\n",
       "      <th>3</th>\n",
       "      <td>4</td>\n",
       "      <td>D</td>\n",
       "      <td>78</td>\n",
       "    </tr>\n",
       "    <tr>\n",
       "      <th>4</th>\n",
       "      <td>5</td>\n",
       "      <td>D</td>\n",
       "      <td>79</td>\n",
       "    </tr>\n",
       "    <tr>\n",
       "      <th>0</th>\n",
       "      <td>1</td>\n",
       "      <td>E</td>\n",
       "      <td>56</td>\n",
       "    </tr>\n",
       "    <tr>\n",
       "      <th>1</th>\n",
       "      <td>2</td>\n",
       "      <td>E</td>\n",
       "      <td>76</td>\n",
       "    </tr>\n",
       "    <tr>\n",
       "      <th>2</th>\n",
       "      <td>3</td>\n",
       "      <td>E</td>\n",
       "      <td>72</td>\n",
       "    </tr>\n",
       "    <tr>\n",
       "      <th>3</th>\n",
       "      <td>4</td>\n",
       "      <td>E</td>\n",
       "      <td>73</td>\n",
       "    </tr>\n",
       "    <tr>\n",
       "      <th>4</th>\n",
       "      <td>5</td>\n",
       "      <td>E</td>\n",
       "      <td>58</td>\n",
       "    </tr>\n",
       "  </tbody>\n",
       "</table>\n",
       "</div>"
      ],
      "text/plain": [
       "   Day Store  QoS\n",
       "0    1     A   69\n",
       "1    2     A   68\n",
       "2    3     A   71\n",
       "3    4     A   70\n",
       "4    5     A   60\n",
       "0    1     B   71\n",
       "1    2     B   76\n",
       "2    3     B   77\n",
       "3    4     B   73\n",
       "4    5     B   64\n",
       "0    1     C   64\n",
       "1    2     C   79\n",
       "2    3     C   74\n",
       "3    4     C   71\n",
       "4    5     C   67\n",
       "0    1     D   67\n",
       "1    2     D   87\n",
       "2    3     D   84\n",
       "3    4     D   78\n",
       "4    5     D   79\n",
       "0    1     E   56\n",
       "1    2     E   76\n",
       "2    3     E   72\n",
       "3    4     E   73\n",
       "4    5     E   58"
      ]
     },
     "execution_count": 14,
     "metadata": {},
     "output_type": "execute_result"
    }
   ],
   "source": [
    "df1     = pd.DataFrame({'Day': d0_val, 'Store':'A', 'QoS': d1_val})\n",
    "df2     = pd.DataFrame({'Day': d0_val, 'Store':'B', 'QoS': d2_val})\n",
    "df3     = pd.DataFrame({'Day': d0_val, 'Store':'C', 'QoS': d3_val})\n",
    "df4     = pd.DataFrame({'Day': d0_val, 'Store':'D', 'QoS': d4_val})\n",
    "df5     = pd.DataFrame({'Day': d0_val, 'Store':'E', 'QoS': d5_val})\n",
    "\n",
    "QoS_df  = pd.DataFrame()\n",
    "\n",
    "QoS_df  = QoS_df.append(df1) \n",
    "QoS_df  = QoS_df.append(df2) \n",
    "QoS_df  = QoS_df.append(df3) \n",
    "QoS_df  = QoS_df.append(df4) \n",
    "QoS_df  = QoS_df.append(df5) \n",
    "\n",
    "\n",
    "pd.DataFrame(QoS_df)"
   ]
  },
  {
   "cell_type": "code",
   "execution_count": 15,
   "metadata": {
    "colab": {},
    "colab_type": "code",
    "id": "x3txWYzMrFZJ",
    "outputId": "c46e3fc5-672e-4c4e-b671-f426b7d06cf6"
   },
   "outputs": [
    {
     "name": "stdout",
     "output_type": "stream",
     "text": [
      "          sum_sq    df         F    PR(>F)\n",
      "C(Day)    617.36   4.0  8.737051  0.000614\n",
      "C(Store)  461.76   4.0  6.534956  0.002575\n",
      "Residual  282.64  16.0       NaN       NaN\n"
     ]
    }
   ],
   "source": [
    "import statsmodels.api         as     sm\n",
    "from   statsmodels.formula.api import ols\n",
    "from   statsmodels.stats.anova import anova_lm\n",
    "\n",
    "formula = 'QoS ~ C(Day) + C(Store)'\n",
    "model = ols(formula, QoS_df).fit()\n",
    "aov_table = anova_lm(model, typ=2)\n",
    "\n",
    "print(aov_table)"
   ]
  },
  {
   "cell_type": "markdown",
   "metadata": {
    "colab_type": "raw",
    "id": "72QBU1AbrFZM"
   },
   "source": [
    "In this example, \n",
    "* p value for Day is 0.000614 and < 0.05 so we reject the null hypothesis (1) \n",
    "and conclude that the Day is having an effect on Quality of Service.\n",
    "* p value for Stores is 0.002575 and < 0.05 so we retain the null hypothesis (2) \n",
    "and conclude that the Stores is having an effect on Quality of Service."
   ]
  },
  {
   "cell_type": "markdown",
   "metadata": {
    "colab_type": "text",
    "id": "1e49k1S1rFZN"
   },
   "source": [
    "## Chi Square"
   ]
  },
  {
   "cell_type": "markdown",
   "metadata": {
    "colab_type": "text",
    "id": "A6gggIRzrFZN"
   },
   "source": [
    "### Practice Exercise 3"
   ]
  },
  {
   "cell_type": "markdown",
   "metadata": {
    "colab_type": "text",
    "id": "-YWnE5VcrFZO"
   },
   "source": [
    "Refer to the above example 5. Here the operations manager changes his belief and now believes that 28% of their passengers prefer vegan food, 42% prefer vegetarian food , 25% prefer non-veg food 5% request for Jain food. \n",
    "\n",
    "At 5% level of significance, can you confirm that the meal preference is as per the belief of the operations manager?"
   ]
  },
  {
   "cell_type": "code",
   "execution_count": 16,
   "metadata": {
    "colab": {},
    "colab_type": "code",
    "id": "EeIjtM6urFZP",
    "outputId": "a4a88aca-843f-4803-f16c-39217a591344"
   },
   "outputs": [
    {
     "name": "stdout",
     "output_type": "stream",
     "text": [
      "At 5 % level of significance, the p-value is 0.0000001\n"
     ]
    },
    {
     "name": "stderr",
     "output_type": "stream",
     "text": [
      "<ipython-input-16-b8817ddf8c82>:4: DeprecationWarning: scipy.array is deprecated and will be removed in SciPy 2.0.0, use numpy.array instead\n",
      "  observed_values    = scipy.array([190, 185, 90, 35])\n",
      "<ipython-input-16-b8817ddf8c82>:7: DeprecationWarning: scipy.array is deprecated and will be removed in SciPy 2.0.0, use numpy.array instead\n",
      "  expected_values    = scipy.array([n*0.28, n*.42, n*0.25, n*0.05])\n"
     ]
    }
   ],
   "source": [
    "import scipy.stats as stats\n",
    "import scipy\n",
    "\n",
    "observed_values    = scipy.array([190, 185, 90, 35])\n",
    "n                  = observed_values.sum()\n",
    "\n",
    "expected_values    = scipy.array([n*0.28, n*.42, n*0.25, n*0.05])\n",
    "\n",
    "chi_square_stat, p_value = stats.chisquare(observed_values, f_exp=expected_values)\n",
    "\n",
    "print('At 5 %s level of significance, the p-value is %1.7f' %('%', p_value))"
   ]
  },
  {
   "cell_type": "markdown",
   "metadata": {
    "colab_type": "text",
    "id": "cujXNKutrFZR"
   },
   "source": [
    "### In this example, p value is 0.0000001 and < 0.05 so we reject the null hypothesis. \n",
    "### So, we conclude that Meal preference is not defined in the null hypothesis."
   ]
  },
  {
   "cell_type": "markdown",
   "metadata": {
    "colab_type": "text",
    "id": "LEuhUILlrFZT"
   },
   "source": [
    "### Chi-square tests of independence"
   ]
  },
  {
   "cell_type": "markdown",
   "metadata": {
    "colab_type": "text",
    "id": "iy3WWMparFZT"
   },
   "source": [
    "### Practice Exercise 4"
   ]
  },
  {
   "cell_type": "markdown",
   "metadata": {
    "colab_type": "text",
    "id": "JhenLpUxrFZU"
   },
   "source": [
    "A Cable service provider company is interested in checking whether or not the customer churn depends on customer segment.  Use 5% as level of significance"
   ]
  },
  {
   "cell_type": "markdown",
   "metadata": {
    "colab_type": "text",
    "id": "5jTapB-2rFZV"
   },
   "source": [
    "| Customer Segment | Churned | Retained |\n",
    "|  -------- | ----- | ---- |\n",
    "| S1 | 15 | 142 |\n",
    "| S2 | 24 | 400 |\n",
    "| S3 | 30 | 389 |\n"
   ]
  },
  {
   "cell_type": "markdown",
   "metadata": {
    "colab_type": "text",
    "id": "YUW7HtO8rFZW"
   },
   "source": [
    "#### Hint"
   ]
  },
  {
   "cell_type": "code",
   "execution_count": 17,
   "metadata": {
    "colab": {},
    "colab_type": "code",
    "id": "E0rWvI5rrFZX",
    "outputId": "4a5ac15b-3219-4b48-9054-be64c24cd32a"
   },
   "outputs": [
    {
     "name": "stdout",
     "output_type": "stream",
     "text": [
      "Chi-square statistic 2.77998 P value 0.249078 Degrees of freedom 2\n"
     ]
    }
   ],
   "source": [
    "import numpy       as np\n",
    "import scipy.stats as stats\n",
    "\n",
    "churn_array = np.array([[15,142],[24, 400],[30, 389]])\n",
    "chi_sq_Stat, p_value, deg_freedom, exp_freq = stats.chi2_contingency(churn_array)\n",
    "\n",
    "print('Chi-square statistic %3.5f P value %1.6f Degrees of freedom %d' %(chi_sq_Stat, p_value,deg_freedom))"
   ]
  },
  {
   "cell_type": "markdown",
   "metadata": {
    "colab_type": "text",
    "id": "nyS8b2XDrFZa"
   },
   "source": [
    "### In this example, p value is 0.249078 and > 0.05 so we wont reject the null hypothesis. \n"
   ]
  },
  {
   "cell_type": "markdown",
   "metadata": {
    "colab_type": "text",
    "id": "VJrot_o8rFZb"
   },
   "source": [
    "### Take Home Exercises"
   ]
  },
  {
   "cell_type": "markdown",
   "metadata": {
    "colab_type": "text",
    "id": "nJxh31QurFZc"
   },
   "source": [
    "** 1)  Is there any evidence that the stock return depends on sector like industrial or consumer or service?\n",
    "The following table shows the annual return of stocks under different sectors:**"
   ]
  },
  {
   "cell_type": "code",
   "execution_count": 18,
   "metadata": {
    "colab": {},
    "colab_type": "code",
    "id": "AJVqJFB7rFZd",
    "outputId": "8e420c6a-8371-4a55-a89b-5e477b3a4443"
   },
   "outputs": [
    {
     "name": "stdout",
     "output_type": "stream",
     "text": [
      "Count, Mean and standard deviation of monthly income of members of Consumer Grp:  30, 0.082653 and 0.001010\n",
      "Count, Mean and standard deviation of monthly income of members of Service Grp:  30, 0.079823 and 0.003073\n",
      "Count, Mean and standard deviation of monthly income of members of Industrial Grp:  30, 0.060503 and 0.000963\n"
     ]
    }
   ],
   "source": [
    "y_stock_consumer = [ 0.0632, 0.1473, 0.1195, 0.1236, 0.1028, 0.0381, 0.1015, 0.1106, 0.0629, 0.0515, 0.0844, 0.1428, 0.0889, 0.0598,\\\n",
    "                    0.0696, 0.1162, 0.0522, 0.0534, 0.0593, 0.0710, 0.1091, 0.0820, 0.1019, 0.0904, 0.0861, 0.0939, 0.0263, \\\n",
    "                    0.0277, 0.0476, 0.0960]\n",
    "\n",
    "X1                = np.array(y_stock_consumer)\n",
    "print('Count, Mean and standard deviation of monthly income of members of Consumer Grp: %3d, %3.6f and %3.6f' % (len(X1), X1.mean(),np.var(X1,ddof =1)))\n",
    "\n",
    "y_stock_service =  [ 0.1370, 0.0358, 0.0136, 0.1741, 0.1001, 0.1088, 0.1563, -0.0004, 0.1032, 0.0740, 0.1148, 0.0971, 0.1119, 0.0821,\\\n",
    "                    0.0164, 0.0145, 0.1012, 0.1385, -0.1027, 0.0526, 0.1205, 0.0447, 0.0871, 0.0559, 0.1002, 0.0765, 0.1003, 0.0787, 0.0659, 0.1360]\n",
    "\n",
    "X2                = np.array(y_stock_service)\n",
    "print('Count, Mean and standard deviation of monthly income of members of Service Grp: %3d, %3.6f and %3.6f' % (len(X2), X2.mean(),np.var(X2,ddof =1)))\n",
    "\n",
    "y_stock_indistrial = [ 0.0674, 0.0711, 0.0569, 0.0248, 0.0542, 0.0800, 0.0255, 0.0834, 0.0499, 0.0339, 0.0873, 0.1385, 0.0529, 0.0906, 0.0284,\\\n",
    "                       0.0582, 0.0766, 0.0412, 0.0910, 0.0876, 0.1077, 0.0148, 0.0471, 0.1066, 0.0044, 0.0294, 0.0655, 0.0284, 0.0390, 0.0728]\n",
    "\n",
    "X3                = np.array(y_stock_indistrial)\n",
    "print('Count, Mean and standard deviation of monthly income of members of Industrial Grp: %3d, %3.6f and %3.6f' % (len(X3), X3.mean(),np.var(X3,ddof =1)))\n"
   ]
  },
  {
   "cell_type": "code",
   "execution_count": 19,
   "metadata": {
    "colab": {},
    "colab_type": "code",
    "id": "fdFKOHssrFZf",
    "outputId": "3b699f1e-eabf-4b22-871a-344f89d0c4b1"
   },
   "outputs": [
    {
     "data": {
      "text/html": [
       "<div>\n",
       "<style scoped>\n",
       "    .dataframe tbody tr th:only-of-type {\n",
       "        vertical-align: middle;\n",
       "    }\n",
       "\n",
       "    .dataframe tbody tr th {\n",
       "        vertical-align: top;\n",
       "    }\n",
       "\n",
       "    .dataframe thead th {\n",
       "        text-align: right;\n",
       "    }\n",
       "</style>\n",
       "<table border=\"1\" class=\"dataframe\">\n",
       "  <thead>\n",
       "    <tr style=\"text-align: right;\">\n",
       "      <th></th>\n",
       "      <th>Sector</th>\n",
       "      <th>Stock_Return</th>\n",
       "    </tr>\n",
       "  </thead>\n",
       "  <tbody>\n",
       "    <tr>\n",
       "      <th>0</th>\n",
       "      <td>Consumer</td>\n",
       "      <td>0.0632</td>\n",
       "    </tr>\n",
       "    <tr>\n",
       "      <th>1</th>\n",
       "      <td>Consumer</td>\n",
       "      <td>0.1473</td>\n",
       "    </tr>\n",
       "    <tr>\n",
       "      <th>2</th>\n",
       "      <td>Consumer</td>\n",
       "      <td>0.1195</td>\n",
       "    </tr>\n",
       "    <tr>\n",
       "      <th>3</th>\n",
       "      <td>Consumer</td>\n",
       "      <td>0.1236</td>\n",
       "    </tr>\n",
       "    <tr>\n",
       "      <th>4</th>\n",
       "      <td>Consumer</td>\n",
       "      <td>0.1028</td>\n",
       "    </tr>\n",
       "  </tbody>\n",
       "</table>\n",
       "</div>"
      ],
      "text/plain": [
       "     Sector  Stock_Return\n",
       "0  Consumer        0.0632\n",
       "1  Consumer        0.1473\n",
       "2  Consumer        0.1195\n",
       "3  Consumer        0.1236\n",
       "4  Consumer        0.1028"
      ]
     },
     "execution_count": 19,
     "metadata": {},
     "output_type": "execute_result"
    }
   ],
   "source": [
    "import pandas as pd\n",
    "import numpy  as np\n",
    "\n",
    "df1     = pd.DataFrame({'Sector': 'Consumer',   'Stock_Return': y_stock_consumer})\n",
    "df2     = pd.DataFrame({'Sector': 'Service',    'Stock_Return': y_stock_service})\n",
    "df3     = pd.DataFrame({'Sector': 'Industrial', 'Stock_Return': y_stock_indistrial})\n",
    "\n",
    "y_stock_df  = pd.DataFrame()\n",
    "\n",
    "y_stock_df  = y_stock_df.append(df1) \n",
    "y_stock_df  = y_stock_df.append(df2) \n",
    "y_stock_df  = y_stock_df.append(df3) \n",
    "\n",
    "\n",
    "pd.DataFrame(y_stock_df.head())"
   ]
  },
  {
   "cell_type": "markdown",
   "metadata": {
    "colab_type": "text",
    "id": "gX9yi5AhrFZj"
   },
   "source": [
    "#### Hint: Try One-way ANOVA"
   ]
  },
  {
   "cell_type": "code",
   "execution_count": 20,
   "metadata": {
    "colab": {},
    "colab_type": "code",
    "id": "KlbAF4TarFZk",
    "outputId": "6f6b60b0-96f6-47da-96ec-d59c47712134"
   },
   "outputs": [
    {
     "data": {
      "image/png": "[encoded data removed]",
      "text/plain": [
       "<Figure size 432x288 with 1 Axes>"
      ]
     },
     "metadata": {
      "needs_background": "light"
     },
     "output_type": "display_data"
    }
   ],
   "source": [
    "sns.boxplot(x = \"Sector\", y = \"Stock_Return\", data = y_stock_df)\n",
    "plt.title('stock_return as per sector')\n",
    "plt.show()"
   ]
  },
  {
   "cell_type": "code",
   "execution_count": 21,
   "metadata": {
    "colab": {},
    "colab_type": "code",
    "id": "gjmwKLQTrFZn",
    "outputId": "c77338ca-3fe1-41fd-bb9a-54c7acf237c1"
   },
   "outputs": [
    {
     "name": "stdout",
     "output_type": "stream",
     "text": [
      "F critical value for 2 and 87 df with .95 confidence 3.10\n"
     ]
    }
   ],
   "source": [
    "crit = stats.f.ppf(q = 1-0.05, dfn = 2, dfd = 87)\n",
    "print('F critical value for 2 and 87 df with .95 confidence %3.2f' %crit)"
   ]
  },
  {
   "cell_type": "code",
   "execution_count": 22,
   "metadata": {
    "colab": {},
    "colab_type": "code",
    "id": "7_S5jot5rFZq",
    "outputId": "84554d30-6849-423f-d4b8-be177c8d10d6"
   },
   "outputs": [
    {
     "name": "stdout",
     "output_type": "stream",
     "text": [
      "            sum_sq    df        F    PR(>F)\n",
      "Sector    0.008719   2.0  2.59173  0.080664\n",
      "Residual  0.146340  87.0      NaN       NaN\n"
     ]
    }
   ],
   "source": [
    "import statsmodels.api         as     sm\n",
    "from   statsmodels.formula.api import ols\n",
    " \n",
    "mod = ols('Stock_Return ~ Sector', data = y_stock_df).fit()\n",
    "aov_table = sm.stats.anova_lm(mod, typ=2)\n",
    "print(aov_table)"
   ]
  },
  {
   "cell_type": "markdown",
   "metadata": {
    "colab_type": "raw",
    "id": "qUuw9Q_WrFZt"
   },
   "source": [
    "In this example, calculated value of F ( = 2.5917) is less than Critical value of F( = 3.10)\n",
    "\n",
    "So the statistical decision is to reject the null hypothesis at 5% level of significance.\n",
    "\n",
    "### So there is  sufficient evidence  to reject the null hypothesis\n",
    "###that at least one mean stock_returns of a sectors is different from others ."
   ]
  },
  {
   "cell_type": "markdown",
   "metadata": {
    "colab_type": "text",
    "id": "Jk1w-7H5rFZt"
   },
   "source": [
    "**2 The following table shows the quantity of soaps at different discount of different brands collected over 20 days.**"
   ]
  },
  {
   "cell_type": "code",
   "execution_count": 23,
   "metadata": {
    "colab": {},
    "colab_type": "code",
    "id": "-EXBR8lOrFZu",
    "outputId": "b06f6609-1025-4a0e-8c07-704b313fc116"
   },
   "outputs": [
    {
     "name": "stdout",
     "output_type": "stream",
     "text": [
      "   Loc  Brand X  Brand Y  Brand Z\n",
      "0    1       20       28       32\n",
      "1    2       20       19       20\n",
      "2    1       16       23       29\n",
      "3    2       21       27       31\n",
      "4    1       24       25       28\n"
     ]
    }
   ],
   "source": [
    "table1  = [['Loc','Brand X','Brand Y','Brand Z'], [ 1, 20, 28, 32], [ 2, 20, 19, 20],\n",
    "  [ 1, 16, 23, 29 ],[ 2, 21, 27, 31 ],[ 1, 24, 25, 28 ],[ 2, 23, 23, 35 ],\n",
    "  [ 1, 20, 31, 27 ],[ 2, 19, 30, 25 ],[ 1, 19, 25, 30 ],[ 2, 25, 25, 31 ],\n",
    "  [ 1, 10, 24, 26 ],[ 2, 22, 21, 31 ],[ 1, 24, 28, 37 ],[ 2, 25, 33, 31 ],\n",
    "  [ 1, 16, 23, 33 ],[ 2, 21, 26, 23 ],[ 1, 25, 26, 27 ],[ 2, 26, 22, 22 ],\n",
    "  [ 1, 16, 25, 31 ],[ 2, 22, 28, 32 ],[ 1, 18, 22, 37 ],[ 2, 25, 24, 22 ],\n",
    "  [ 1, 20, 24, 28 ],[ 2, 23, 23, 29 ],[ 1, 17, 26, 25 ],[ 2, 23, 26, 25 ],\n",
    "  [ 1, 26, 28, 23 ],[ 2, 24, 16, 34 ],[ 1, 16, 21, 26 ],[ 2, 20, 30, 30 ],\n",
    "  [ 1, 21, 27, 33 ],[2, 23, 22, 25 ],[ 1, 24, 25, 28 ],[ 2, 18, 16, 39 ],\n",
    "  [ 1, 19, 20, 30 ],[ 2, 19, 25, 32 ],[ 1, 19, 26, 30 ],[ 2, 19, 34, 29 ],\n",
    "  [ 1, 21, 26, 26 ],[ 2, 30, 23, 22 ]]\n",
    "\n",
    "headers = table1.pop(0) #\n",
    "\n",
    "df1 = pd.DataFrame(table1, columns=headers)\n",
    "print(df1.head())"
   ]
  },
  {
   "cell_type": "markdown",
   "metadata": {
    "colab_type": "text",
    "id": "7q532NSwrFZx"
   },
   "source": [
    "This is a two-way ANOVA with replication since the data contains values for multiple locations."
   ]
  },
  {
   "cell_type": "markdown",
   "metadata": {
    "colab_type": "text",
    "id": "30mfH3hbrFZy"
   },
   "source": [
    "Conduct a two-way ANOVA at $\\alpha$ = 5% to test the effects of Brands and location on sales."
   ]
  },
  {
   "cell_type": "code",
   "execution_count": 24,
   "metadata": {
    "colab": {},
    "colab_type": "code",
    "id": "g27inHj_rFZz",
    "outputId": "1d04da6b-481e-40b3-ecb7-5beb57b8f95e"
   },
   "outputs": [
    {
     "data": {
      "text/html": [
       "<div>\n",
       "<style scoped>\n",
       "    .dataframe tbody tr th:only-of-type {\n",
       "        vertical-align: middle;\n",
       "    }\n",
       "\n",
       "    .dataframe tbody tr th {\n",
       "        vertical-align: top;\n",
       "    }\n",
       "\n",
       "    .dataframe thead th {\n",
       "        text-align: right;\n",
       "    }\n",
       "</style>\n",
       "<table border=\"1\" class=\"dataframe\">\n",
       "  <thead>\n",
       "    <tr style=\"text-align: right;\">\n",
       "      <th></th>\n",
       "      <th>Loc</th>\n",
       "      <th>Brand</th>\n",
       "      <th>Qty</th>\n",
       "    </tr>\n",
       "  </thead>\n",
       "  <tbody>\n",
       "    <tr>\n",
       "      <th>0</th>\n",
       "      <td>1</td>\n",
       "      <td>X</td>\n",
       "      <td>20</td>\n",
       "    </tr>\n",
       "    <tr>\n",
       "      <th>1</th>\n",
       "      <td>2</td>\n",
       "      <td>X</td>\n",
       "      <td>20</td>\n",
       "    </tr>\n",
       "    <tr>\n",
       "      <th>2</th>\n",
       "      <td>1</td>\n",
       "      <td>X</td>\n",
       "      <td>16</td>\n",
       "    </tr>\n",
       "    <tr>\n",
       "      <th>3</th>\n",
       "      <td>2</td>\n",
       "      <td>X</td>\n",
       "      <td>21</td>\n",
       "    </tr>\n",
       "    <tr>\n",
       "      <th>4</th>\n",
       "      <td>1</td>\n",
       "      <td>X</td>\n",
       "      <td>24</td>\n",
       "    </tr>\n",
       "    <tr>\n",
       "      <th>...</th>\n",
       "      <td>...</td>\n",
       "      <td>...</td>\n",
       "      <td>...</td>\n",
       "    </tr>\n",
       "    <tr>\n",
       "      <th>35</th>\n",
       "      <td>2</td>\n",
       "      <td>Z</td>\n",
       "      <td>32</td>\n",
       "    </tr>\n",
       "    <tr>\n",
       "      <th>36</th>\n",
       "      <td>1</td>\n",
       "      <td>Z</td>\n",
       "      <td>30</td>\n",
       "    </tr>\n",
       "    <tr>\n",
       "      <th>37</th>\n",
       "      <td>2</td>\n",
       "      <td>Z</td>\n",
       "      <td>29</td>\n",
       "    </tr>\n",
       "    <tr>\n",
       "      <th>38</th>\n",
       "      <td>1</td>\n",
       "      <td>Z</td>\n",
       "      <td>26</td>\n",
       "    </tr>\n",
       "    <tr>\n",
       "      <th>39</th>\n",
       "      <td>2</td>\n",
       "      <td>Z</td>\n",
       "      <td>22</td>\n",
       "    </tr>\n",
       "  </tbody>\n",
       "</table>\n",
       "<p>120 rows × 3 columns</p>\n",
       "</div>"
      ],
      "text/plain": [
       "    Loc Brand  Qty\n",
       "0     1     X   20\n",
       "1     2     X   20\n",
       "2     1     X   16\n",
       "3     2     X   21\n",
       "4     1     X   24\n",
       "..  ...   ...  ...\n",
       "35    2     Z   32\n",
       "36    1     Z   30\n",
       "37    2     Z   29\n",
       "38    1     Z   26\n",
       "39    2     Z   22\n",
       "\n",
       "[120 rows x 3 columns]"
      ]
     },
     "execution_count": 24,
     "metadata": {},
     "output_type": "execute_result"
    }
   ],
   "source": [
    "d0_val  = df1['Brand X'].values\n",
    "d10_val = df1['Brand Y'].values\n",
    "d20_val = df1['Brand Z'].values\n",
    "l_val   = df1['Loc'].values\n",
    "\n",
    "df1   = pd.DataFrame({'Loc': l_val, 'Brand':'X','Qty': d0_val})\n",
    "df2   = pd.DataFrame({'Loc': l_val, 'Brand':'Y','Qty': d10_val})\n",
    "df3   = pd.DataFrame({'Loc': l_val, 'Brand':'Z','Qty': d20_val})\n",
    "\n",
    "Sale_qty_df = pd.DataFrame()\n",
    "\n",
    "Sale_qty_df = Sale_qty_df.append(df1) \n",
    "Sale_qty_df = Sale_qty_df.append(df2) \n",
    "Sale_qty_df = Sale_qty_df.append(df3) \n",
    "\n",
    "pd.DataFrame(Sale_qty_df)"
   ]
  },
  {
   "cell_type": "code",
   "execution_count": 25,
   "metadata": {
    "colab": {},
    "colab_type": "code",
    "id": "2IaFVXC6rFZ2",
    "outputId": "d8b35859-c150-4f99-dd86-f3d2fe9b1915"
   },
   "outputs": [
    {
     "name": "stdout",
     "output_type": "stream",
     "text": [
      "                      sum_sq     df          F        PR(>F)\n",
      "C(Brand)         1240.316667    2.0  39.279968  1.055160e-13\n",
      "C(Loc)              7.008333    1.0   0.443898  5.065930e-01\n",
      "C(Brand):C(Loc)    84.816667    2.0   2.686085  7.246036e-02\n",
      "Residual         1799.850000  114.0        NaN           NaN\n"
     ]
    }
   ],
   "source": [
    "import statsmodels.api         as     sm\n",
    "from   statsmodels.formula.api import ols\n",
    "from   statsmodels.stats.anova import anova_lm\n",
    "\n",
    "formula = 'Qty ~ C(Brand) + C(Loc) + C(Brand):C(Loc)'\n",
    "model = ols(formula, Sale_qty_df).fit()\n",
    "aov_table = anova_lm(model, typ=2)\n",
    "\n",
    "print(aov_table)"
   ]
  },
  {
   "cell_type": "markdown",
   "metadata": {
    "colab_type": "raw",
    "id": "P0-ulEP3rFZ5"
   },
   "source": [
    "In this example, \n",
    "* p value for discount  is 1.05e-13 and < 0.05 so we reject the null hypothesis (1) and conclude that the brand is having an effect on sales quantity.\n",
    "* p value for location  is 5.5066 and > 0.05 so we retain the null hypothesis (2) and conclude that the location is not having an effect on sales quantity.\n",
    "* p value for interaction (discount:location)  is 7.25 and > 0.05 so we retain the null hypothesis (3) and conclude that the interaction (BRAND:location) is not having an effect on sales quantity."
   ]
  },
  {
   "cell_type": "markdown",
   "metadata": {
    "colab_type": "text",
    "id": "13B7dQJsrFZ6"
   },
   "source": [
    "** 3 Blood group of patients of the hospital is given below:**\n",
    "\n",
    "| Blood group | Count |\n",
    "| ------ | --- |\n",
    "| O | 44%|\n",
    "| A | 45% |\n",
    "| B | 8% |\n",
    "| AB | 3% |\n",
    "\n",
    "\n",
    "Observed frequency\n",
    "\n",
    "| Blood group | Count |\n",
    "| ----- | ----|\n",
    "| O | 67 |\n",
    "| A | 83 |\n",
    "| B | 29 |\n",
    "| C | 8 |\n",
    "\n",
    "At 5% level of significance do you have evidence to conclude that there are differences in the distribution of blood groups among patients that is expected as per our prior knowledge.\n",
    "\n"
   ]
  },
  {
   "cell_type": "code",
   "execution_count": 26,
   "metadata": {
    "colab": {},
    "colab_type": "code",
    "id": "kBrDroSIrFZ7",
    "outputId": "db0980fa-f598-4e3f-8df6-1de0fcf3c6c6"
   },
   "outputs": [
    {
     "name": "stdout",
     "output_type": "stream",
     "text": [
      "At 5 % level of significance, the p-value is 0.0006908\n"
     ]
    },
    {
     "name": "stderr",
     "output_type": "stream",
     "text": [
      "<ipython-input-26-dfbc0bad15a6>:4: DeprecationWarning: scipy.array is deprecated and will be removed in SciPy 2.0.0, use numpy.array instead\n",
      "  observed_values    = scipy.array([67, 83, 29, 8])\n",
      "<ipython-input-26-dfbc0bad15a6>:7: DeprecationWarning: scipy.array is deprecated and will be removed in SciPy 2.0.0, use numpy.array instead\n",
      "  expected_values    = scipy.array([n*0.44, n*.45, n*0.08, n*0.03])\n"
     ]
    }
   ],
   "source": [
    "import scipy.stats as stats\n",
    "import scipy\n",
    "\n",
    "observed_values    = scipy.array([67, 83, 29, 8])\n",
    "n                  = observed_values.sum()\n",
    "\n",
    "expected_values    = scipy.array([n*0.44, n*.45, n*0.08, n*0.03])\n",
    "\n",
    "chi_square_stat, p_value = stats.chisquare(observed_values, f_exp=expected_values)\n",
    "\n",
    "print('At 5 %s level of significance, the p-value is %1.7f' %('%', p_value))"
   ]
  },
  {
   "cell_type": "markdown",
   "metadata": {
    "colab_type": "raw",
    "id": "fRmwxaiLrFZ9"
   },
   "source": [
    "### In this example, p value is 0.00006908  < 0.05 so we reject the null hypothesis. \n",
    "### So, we have evidence to conclude that there are differences in the distribution of blood groups among patients that is expected as per our prior knowledge."
   ]
  },
  {
   "cell_type": "markdown",
   "metadata": {
    "colab_type": "text",
    "id": "sx9Xt8YmrFZ-"
   },
   "source": [
    "**4. The shift quality data is given below:**\n",
    "\n",
    "| Shift | Perfect | Satisfactory | Defective |\n",
    "| ---- | ----- | ----- | ----- |\n",
    "| I | 106 | 124 | 1 | \n",
    "|II |  67 | 85 | 1 |\n",
    "| III | 37 | 72 | 3 |\n",
    "\n",
    "At 5% level of significance do you have evidence to conclude that there are differences in quality among the three shifts?\n"
   ]
  },
  {
   "cell_type": "code",
   "execution_count": 27,
   "metadata": {
    "colab": {},
    "colab_type": "code",
    "id": "MSSmXAoTrFZ-",
    "outputId": "6c355d74-28a5-42a0-91eb-d12a1a1a5b16"
   },
   "outputs": [
    {
     "name": "stdout",
     "output_type": "stream",
     "text": [
      "Chi-square statistic 8.64670 P value 0.070563 Degrees of freedom 4\n"
     ]
    }
   ],
   "source": [
    "import pandas      as pd\n",
    "import numpy       as np\n",
    "import scipy.stats as stats\n",
    "\n",
    "quality_array = np.array([[106, 124, 1],[67, 85, 1],[37, 72, 3]])\n",
    "chi_sq_Stat, p_value, deg_freedom, exp_freq = stats.chi2_contingency(quality_array)\n",
    "\n",
    "print('Chi-square statistic %3.5f P value %1.6f Degrees of freedom %d' %(chi_sq_Stat, p_value,deg_freedom))"
   ]
  },
  {
   "cell_type": "markdown",
   "metadata": {
    "colab_type": "raw",
    "id": "KqCFMnOorFaB"
   },
   "source": [
    "### In this example, p value is 0.07 and > 0.05 so we wont reject the null hypothesis. \n",
    "### So, we conclude that conclude that there is no differences in quality among the three shifts."
   ]
  },
  {
   "cell_type": "markdown",
   "metadata": {
    "colab_type": "text",
    "id": "OLYxSlbRrFaC"
   },
   "source": [
    "## E N D  "
   ]
  }
 ],
 "metadata": {
  "colab": {
   "name": "Inclass_labexercise-Day03.ipynb",
   "provenance": []
  },
  "kernelspec": {
   "display_name": "Python 3",
   "language": "python",
   "name": "python3"
  },
  "language_info": {
   "codemirror_mode": {
    "name": "ipython",
    "version": 3
   },
   "file_extension": ".py",
   "mimetype": "text/x-python",
   "name": "python",
   "nbconvert_exporter": "python",
   "pygments_lexer": "ipython3",
   "version": "3.8.3"
  }
 },
 "nbformat": 4,
 "nbformat_minor": 1
}
