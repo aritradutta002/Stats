{
 "cells": [
  {
   "cell_type": "code",
   "execution_count": 1,
   "metadata": {},
   "outputs": [],
   "source": [
    "import numpy as np\n",
    "import pandas as pd\n",
    "import matplotlib.pyplot as plt\n",
    "import scipy.stats as stats\n",
    "%matplotlib inline\n",
    "import seaborn as sns"
   ]
  },
  {
   "cell_type": "code",
   "execution_count": 1,
   "metadata": {},
   "outputs": [],
   "source": [
    "#A purchase manager wants to check the diameter of aluminum die cast sourced from external supplier. The required diameter is 33 and is normally distributed. A sample was taken and is observed to have\n",
    "#𝑛=8\n",
    "#𝑥 ̅ =31.5\n",
    "#𝑠=1.3\n",
    " #Should the purchase manager accept the lot at 90% confidence?\n"
   ]
  },
  {
   "cell_type": "code",
   "execution_count": 6,
   "metadata": {},
   "outputs": [],
   "source": [
    "n = 8\n",
    "xbar = 31.5\n",
    "s = 1.3\n",
    "cl = 0.9\n",
    "mu = 33"
   ]
  },
  {
   "cell_type": "code",
   "execution_count": 5,
   "metadata": {},
   "outputs": [],
   "source": [
    "# one sample t test\n",
    "# S1: h1: mu != 33 , H0:  mu = 30 (two tailed test)\n",
    "# S2: alpha = 1 - 0.9\n",
    "# S3: T Stat = (xbar - mu)/se"
   ]
  },
  {
   "cell_type": "code",
   "execution_count": 12,
   "metadata": {},
   "outputs": [
    {
     "name": "stdout",
     "output_type": "stream",
     "text": [
      "0.4596194077712559 -3.263569759322527 -1.8945786050613054\n"
     ]
    }
   ],
   "source": [
    "se = s/np.sqrt(n)\n",
    "t_stat = (xbar - mu)/se\n",
    "t_crit = stats.t.ppf((1-cl)/2,n-1)\n",
    "print(se,t_stat,t_crit)"
   ]
  },
  {
   "cell_type": "code",
   "execution_count": 15,
   "metadata": {},
   "outputs": [
    {
     "name": "stdout",
     "output_type": "stream",
     "text": [
      "32.37078509643437 30.629214903565632 0.006898110567187781\n"
     ]
    }
   ],
   "source": [
    "pval = stats.t.cdf(t_stat,n-1)\n",
    "ll = xbar - t_crit*se\n",
    "ul = xbar + t_crit*se\n",
    "print(ll,ul,pval)"
   ]
  },
  {
   "cell_type": "code",
   "execution_count": null,
   "metadata": {},
   "outputs": [],
   "source": []
  },
  {
   "cell_type": "markdown",
   "metadata": {},
   "source": [
    "### You are given the daily sugar intake of 11 diabetic patients in the following Python code.\n",
    "\n",
    "### Is there any evidence to the claim that the average daily sugar intake of the diabetic patients is 7600 mg."
   ]
  },
  {
   "cell_type": "code",
   "execution_count": 24,
   "metadata": {},
   "outputs": [
    {
     "name": "stdout",
     "output_type": "stream",
     "text": [
      "356.04918176385513 -2.2925841964555027 2.2281388519649385 0.04481624562570511\n"
     ]
    }
   ],
   "source": [
    "daily_intake = np.array([5560, 5770, 7640, 5180, 5690, 6435, 6803, 7689, 6876, 8213, 8765])\n",
    "cl = 0.95\n",
    "mu = 7600\n",
    "n = len(daily_intake)\n",
    "s = daily_intake.std(ddof=1)\n",
    "xbar = daily_intake.mean()\n",
    "se = s/np.sqrt(n)\n",
    "t_stat = (xbar - mu)/se\n",
    "t_crit = stats.t.isf((1-cl)/2,n-1)\n",
    "pvalue = stats.t.cdf(t_stat,n-1) * 2\n",
    "print(se,t_stat,t_crit,pvalue)"
   ]
  },
  {
   "cell_type": "code",
   "execution_count": 25,
   "metadata": {},
   "outputs": [
    {
     "name": "stdout",
     "output_type": "stream",
     "text": [
      "5990.400257628901 7577.054287825645\n"
     ]
    }
   ],
   "source": [
    "ll = xbar - t_crit*se\n",
    "ul = xbar + t_crit*se\n",
    "print(ll,ul)"
   ]
  },
  {
   "cell_type": "code",
   "execution_count": 26,
   "metadata": {},
   "outputs": [
    {
     "data": {
      "text/plain": [
       "Ttest_1sampResult(statistic=-2.2925841964555027, pvalue=0.04481624562570511)"
      ]
     },
     "execution_count": 26,
     "metadata": {},
     "output_type": "execute_result"
    }
   ],
   "source": [
    "stats.ttest_1samp(daily_intake,mu)"
   ]
  },
  {
   "cell_type": "code",
   "execution_count": null,
   "metadata": {},
   "outputs": [],
   "source": []
  },
  {
   "cell_type": "code",
   "execution_count": 27,
   "metadata": {},
   "outputs": [],
   "source": [
    "#Check whether the difference in monthly salary is at least 5000 or more for Management trainees with MBA  from Premier Institutes."
   ]
  },
  {
   "cell_type": "code",
   "execution_count": 5,
   "metadata": {},
   "outputs": [],
   "source": [
    "n1 = 120\n",
    "n2 = 45\n",
    "x1bar = 67500\n",
    "x2bar = 58950\n",
    "sigma1 = 7200\n",
    "sigma2 = 4600\n",
    "cl = 0.95"
   ]
  },
  {
   "cell_type": "code",
   "execution_count": 6,
   "metadata": {},
   "outputs": [],
   "source": [
    "# S1: H1: mu1 - mu2 > 5000 , H0: mu1-mu2<=5000"
   ]
  },
  {
   "cell_type": "code",
   "execution_count": 7,
   "metadata": {},
   "outputs": [
    {
     "name": "stdout",
     "output_type": "stream",
     "text": [
      "3.737417313779651 1.6448536269514729\n"
     ]
    }
   ],
   "source": [
    "# two sample z test\n",
    "se = np.sqrt(((sigma1)**2/n1)+((sigma2)**2/n2))\n",
    "alpha = 0.05\n",
    "z_stat = ((x1bar - x2bar) - 5000)/se\n",
    "z_crit = stats.norm.isf(alpha)\n",
    "print(z_stat,z_crit)"
   ]
  },
  {
   "cell_type": "code",
   "execution_count": 8,
   "metadata": {},
   "outputs": [
    {
     "data": {
      "text/plain": [
       "9.29601013157504e-05"
      ]
     },
     "execution_count": 8,
     "metadata": {},
     "output_type": "execute_result"
    }
   ],
   "source": [
    "pvalue = stats.norm.sf(z_stat)\n",
    "pvalue"
   ]
  },
  {
   "cell_type": "code",
   "execution_count": 9,
   "metadata": {},
   "outputs": [
    {
     "name": "stdout",
     "output_type": "stream",
     "text": [
      "6688.320781181191 10411.67921881881\n"
     ]
    }
   ],
   "source": [
    "ll = (x1bar-x2bar) - stats.norm.isf(alpha/2)*se\n",
    "ul = (x1bar-x2bar) + stats.norm.isf(alpha/2)*se\n",
    "print(ll,ul)"
   ]
  },
  {
   "cell_type": "code",
   "execution_count": null,
   "metadata": {},
   "outputs": [],
   "source": [
    "stats.norm.interval()"
   ]
  },
  {
   "cell_type": "code",
   "execution_count": 43,
   "metadata": {},
   "outputs": [],
   "source": [
    "#Here weight of 25 people were recorded before they had a new therapy and then again 6 months later. Check if new therapy leads to a change in weight."
   ]
  },
  {
   "cell_type": "code",
   "execution_count": 47,
   "metadata": {},
   "outputs": [],
   "source": [
    "Weight_Female       =  [ 53.8, 54.4, 51.2, 52.5, 61.0, 50.6, 51.6, 70.0]\n",
    "Weight_Male         =  [ 72.5, 80.3, 71.3, 67.7, 66.2, 73.4, 61.3, 76.8]"
   ]
  },
  {
   "cell_type": "code",
   "execution_count": 50,
   "metadata": {},
   "outputs": [],
   "source": [
    "# S1: H1: mu_male - mu_female != 0 , H0: mu_male - mu_female = 0\n",
    "# S2: alpha = 0.05"
   ]
  },
  {
   "cell_type": "code",
   "execution_count": 51,
   "metadata": {},
   "outputs": [],
   "source": [
    "wr_m = np.array(Weight_Male)\n",
    "wr_f = np.array(Weight_Female)"
   ]
  },
  {
   "cell_type": "markdown",
   "metadata": {},
   "source": [
    "Assumptions in two samples independent test (parametric):\n",
    "1. test of normalty ( shapiro test )\n",
    "    H0: data = normal , H1: data != normal\n",
    "    if pvalue is less than 0.05(alpha), data is not normal\n",
    "2. test of variance equality ( Levene Test \n",
    "    H0: pop1_var = pop_var2 , pop1_var != pop_var2\n",
    "    if pvalue is more than 0.05(alpha), variances of populations are equal"
   ]
  },
  {
   "cell_type": "code",
   "execution_count": 52,
   "metadata": {},
   "outputs": [
    {
     "data": {
      "text/plain": [
       "ShapiroResult(statistic=0.989508330821991, pvalue=0.9942821264266968)"
      ]
     },
     "execution_count": 52,
     "metadata": {},
     "output_type": "execute_result"
    }
   ],
   "source": [
    "stats.shapiro(wr_m)"
   ]
  },
  {
   "cell_type": "code",
   "execution_count": 53,
   "metadata": {},
   "outputs": [
    {
     "data": {
      "text/plain": [
       "ShapiroResult(statistic=0.7623502612113953, pvalue=0.011174780316650867)"
      ]
     },
     "execution_count": 53,
     "metadata": {},
     "output_type": "execute_result"
    }
   ],
   "source": [
    "stats.shapiro(wr_f)"
   ]
  },
  {
   "cell_type": "code",
   "execution_count": 54,
   "metadata": {},
   "outputs": [],
   "source": [
    "## wr_m follows normal distribution but wr-f not follow normal distribution\n",
    "## Hence we are not supposed to use parametric test. we have to use non parametric."
   ]
  },
  {
   "cell_type": "code",
   "execution_count": 56,
   "metadata": {},
   "outputs": [
    {
     "data": {
      "text/plain": [
       "LeveneResult(statistic=0.028395091071867308, pvalue=0.8685935536098155)"
      ]
     },
     "execution_count": 56,
     "metadata": {},
     "output_type": "execute_result"
    }
   ],
   "source": [
    "## test of variance equality\n",
    "stats.levene(wr_f,wr_m)"
   ]
  },
  {
   "cell_type": "code",
   "execution_count": 58,
   "metadata": {},
   "outputs": [],
   "source": [
    "## population variance is equal\n",
    "## assuming wr_f following normal"
   ]
  },
  {
   "cell_type": "code",
   "execution_count": 62,
   "metadata": {},
   "outputs": [
    {
     "name": "stdout",
     "output_type": "stream",
     "text": [
      "4.886344172533443 2.1447866879169273\n"
     ]
    }
   ],
   "source": [
    "cl = 0.95\n",
    "xm = wr_m.mean()\n",
    "xf = wr_f.mean()\n",
    "sm = wr_m.std(ddof=1)\n",
    "sf = wr_f.std(ddof=1)\n",
    "nm = len(wr_m)\n",
    "nf = len(wr_f)\n",
    "semf = np.sqrt((sm**2/nm) + (sf**2/nf))\n",
    "tstatmf = ((xm-xf) - 0)/semf\n",
    "tcritmf = stats.t.isf((1-cl)/2,nm+nf-2)\n",
    "print(tstatmf,tcritmf)"
   ]
  },
  {
   "cell_type": "code",
   "execution_count": 65,
   "metadata": {},
   "outputs": [
    {
     "data": {
      "text/plain": [
       "0.00024034957515992842"
      ]
     },
     "execution_count": 65,
     "metadata": {},
     "output_type": "execute_result"
    }
   ],
   "source": [
    "pvalue = stats.t.sf(tstatmf,nm+nf-2) * 2\n",
    "pvalue"
   ]
  },
  {
   "cell_type": "code",
   "execution_count": 66,
   "metadata": {},
   "outputs": [
    {
     "data": {
      "text/plain": [
       "Ttest_indResult(statistic=4.886344172533444, pvalue=0.00024034957515992796)"
      ]
     },
     "execution_count": 66,
     "metadata": {},
     "output_type": "execute_result"
    }
   ],
   "source": [
    "stats.ttest_ind(wr_m,wr_f)"
   ]
  },
  {
   "cell_type": "code",
   "execution_count": null,
   "metadata": {},
   "outputs": [],
   "source": []
  }
 ],
 "metadata": {
  "kernelspec": {
   "display_name": "Python 3",
   "language": "python",
   "name": "python3"
  },
  "language_info": {
   "codemirror_mode": {
    "name": "ipython",
    "version": 3
   },
   "file_extension": ".py",
   "mimetype": "text/x-python",
   "name": "python",
   "nbconvert_exporter": "python",
   "pygments_lexer": "ipython3",
   "version": "3.8.3"
  }
 },
 "nbformat": 4,
 "nbformat_minor": 4
}
