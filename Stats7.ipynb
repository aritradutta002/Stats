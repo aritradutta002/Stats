{
 "cells": [
  {
   "cell_type": "code",
   "execution_count": 1,
   "metadata": {},
   "outputs": [],
   "source": [
    "import numpy as np\n",
    "import pandas as pd\n",
    "import matplotlib.pyplot as plt\n",
    "import scipy.stats as stats\n",
    "%matplotlib inline\n",
    "import seaborn as sns"
   ]
  },
  {
   "cell_type": "code",
   "execution_count": 2,
   "metadata": {},
   "outputs": [],
   "source": [
    "#A researcher believes that Cholesterol level of participants of  a meditation program will be lesser after completing the program than before attending the program. Check the claim at 5% level of significance.\n",
    "#Sample size = 50, D = 14 SD = 8.5 µD  = 10 mg/dL \n"
   ]
  },
  {
   "cell_type": "code",
   "execution_count": 4,
   "metadata": {},
   "outputs": [],
   "source": [
    "n = 50\n",
    "d = 14\n",
    "s = 8.5\n",
    "mu = 10\n",
    "cl = 0.95"
   ]
  },
  {
   "cell_type": "code",
   "execution_count": 6,
   "metadata": {},
   "outputs": [
    {
     "name": "stdout",
     "output_type": "stream",
     "text": [
      "1.2020815280171306 3.327561323230812 -1.6765508919142629\n"
     ]
    }
   ],
   "source": [
    "# H1: mu<10, H0:mu>=10\n",
    "se = s/np.sqrt(n)\n",
    "t_stat = (d - mu)/se\n",
    "t_crit = stats.t.ppf(1-cl,n-1)\n",
    "print(se,t_stat , t_crit)"
   ]
  },
  {
   "cell_type": "code",
   "execution_count": null,
   "metadata": {},
   "outputs": [],
   "source": []
  },
  {
   "cell_type": "markdown",
   "metadata": {},
   "source": [
    "Here weight of 25 people were recorded before they had a new therapy and then again 6 months later. Check if new therapy leads to a change in weight.\n",
    "At 5% level of significance, is there any evidence that the new therapy has any effect on the weight of the participants?"
   ]
  },
  {
   "cell_type": "code",
   "execution_count": 7,
   "metadata": {},
   "outputs": [],
   "source": [
    "wt_before = [76, 76, 72, 73, 64, 63, 75, 75, 71, 76, 71, 76, 78, 73, 76, 70, 71, 82, 84, 68, 70, 68, 66, 67, 74]\n",
    "wt_after  = [63, 72, 67, 69, 58, 59, 70, 71, 70, 71, 68, 71, 72, 69, 72, 67, 67, 78, 79, 62, 67, 63, 61, 63, 69]"
   ]
  },
  {
   "cell_type": "code",
   "execution_count": 8,
   "metadata": {},
   "outputs": [],
   "source": [
    "wt_b = np.array(wt_before)\n",
    "wt_a = np.array(wt_after)"
   ]
  },
  {
   "cell_type": "markdown",
   "metadata": {},
   "source": [
    "H1: mu_wt_after != mu_wt_before or mu_difference >0\n",
    "H0: mu_wt_after = mu_wt_before or mu_difference = 0"
   ]
  },
  {
   "cell_type": "code",
   "execution_count": 13,
   "metadata": {},
   "outputs": [],
   "source": [
    "n = len(wt_b)\n",
    "diff = wt_a - wt_b\n",
    "d = diff.mean()\n",
    "s = diff.std(ddof=1)\n",
    "cl = 0.95\n",
    "mu_d = 0\n",
    "se = s/np.sqrt(n)"
   ]
  },
  {
   "cell_type": "code",
   "execution_count": 16,
   "metadata": {},
   "outputs": [
    {
     "name": "stdout",
     "output_type": "stream",
     "text": [
      "-11.381954836452902 -2.0638985616280205\n"
     ]
    }
   ],
   "source": [
    "t_stat = (d-mu_d)/se\n",
    "t_crit = stats.t.ppf((1-cl)/2,n-1)\n",
    "print(t_stat,t_crit)"
   ]
  },
  {
   "cell_type": "code",
   "execution_count": 20,
   "metadata": {},
   "outputs": [
    {
     "data": {
      "text/plain": [
       "3.704651177780503e-11"
      ]
     },
     "execution_count": 20,
     "metadata": {},
     "output_type": "execute_result"
    }
   ],
   "source": [
    "pvalue = stats.t.cdf(t_stat,n-1)*2\n",
    "pvalue"
   ]
  },
  {
   "cell_type": "code",
   "execution_count": 21,
   "metadata": {},
   "outputs": [
    {
     "data": {
      "text/plain": [
       "Ttest_relResult(statistic=11.381954836452902, pvalue=3.704651177780503e-11)"
      ]
     },
     "execution_count": 21,
     "metadata": {},
     "output_type": "execute_result"
    }
   ],
   "source": [
    "stats.ttest_rel(wt_b,wt_a)"
   ]
  },
  {
   "cell_type": "code",
   "execution_count": null,
   "metadata": {},
   "outputs": [],
   "source": []
  },
  {
   "cell_type": "code",
   "execution_count": 24,
   "metadata": {},
   "outputs": [],
   "source": [
    "# one sample proportion test\n",
    "# covid-19 proportion for the country is 2%. test the claim with 5% level of significance\n",
    "# the sample data out of 500 people surveyed 8 people got affected with covid-19"
   ]
  },
  {
   "cell_type": "code",
   "execution_count": 25,
   "metadata": {},
   "outputs": [],
   "source": [
    "# H0: P=2%\n",
    "# H1: P != 2%"
   ]
  },
  {
   "cell_type": "code",
   "execution_count": 27,
   "metadata": {},
   "outputs": [
    {
     "name": "stdout",
     "output_type": "stream",
     "text": [
      "-0.7128324356402512 -1.959963984540054\n"
     ]
    }
   ],
   "source": [
    "cl = 0.95\n",
    "x = 8\n",
    "n = 500\n",
    "P = 0.02\n",
    "p = x/n\n",
    "q = 1 - p\n",
    "sep = np.sqrt(p*q/n)\n",
    "z_stat = (p - P)/sep\n",
    "z_crit = stats.norm.ppf((1-cl)/2)\n",
    "print(z_stat,z_crit)"
   ]
  },
  {
   "cell_type": "code",
   "execution_count": 28,
   "metadata": {},
   "outputs": [
    {
     "data": {
      "text/plain": [
       "0.47594945187673143"
      ]
     },
     "execution_count": 28,
     "metadata": {},
     "output_type": "execute_result"
    }
   ],
   "source": [
    "pval = stats.norm.cdf(z_stat)*2\n",
    "pval"
   ]
  },
  {
   "cell_type": "code",
   "execution_count": 29,
   "metadata": {},
   "outputs": [
    {
     "name": "stdout",
     "output_type": "stream",
     "text": [
      "8.010998175091624 7.989001824908376\n"
     ]
    }
   ],
   "source": [
    "ll = x - z_crit*sep\n",
    "ul = x + z_crit*sep\n",
    "print(ll,ul)"
   ]
  },
  {
   "cell_type": "code",
   "execution_count": 30,
   "metadata": {},
   "outputs": [],
   "source": [
    "from statsmodels.stats.proportion import proportions_ztest"
   ]
  },
  {
   "cell_type": "code",
   "execution_count": 31,
   "metadata": {},
   "outputs": [
    {
     "data": {
      "text/plain": [
       "(-0.7128324356402512, 0.47594945187673143)"
      ]
     },
     "execution_count": 31,
     "metadata": {},
     "output_type": "execute_result"
    }
   ],
   "source": [
    "proportions_ztest(x,n,P)"
   ]
  },
  {
   "cell_type": "code",
   "execution_count": 34,
   "metadata": {},
   "outputs": [],
   "source": [
    "# two sample proportion test\n",
    "#same problem, claim is that male is affected mre than female.\n",
    "# In a survey of 500 male , 20 are affected and out of 400 female, 25 are affected"
   ]
  },
  {
   "cell_type": "code",
   "execution_count": 35,
   "metadata": {},
   "outputs": [],
   "source": [
    "# H0: pm - pf = 0\n",
    "# H1: pm - pf != 0"
   ]
  },
  {
   "cell_type": "code",
   "execution_count": 37,
   "metadata": {},
   "outputs": [
    {
     "name": "stdout",
     "output_type": "stream",
     "text": [
      "-1.538967528127731 -1.9599639845400545\n"
     ]
    }
   ],
   "source": [
    "nm = 500\n",
    "nf = 400\n",
    "xm = 20\n",
    "xf = 25\n",
    "pm = xm/nm\n",
    "pf = xf/nf\n",
    "n = nm+nf\n",
    "x = xf+xm\n",
    "p = x/n\n",
    "q = 1-p\n",
    "se_p = np.sqrt(p*q*((1/nm)+(1/nf)))\n",
    "z_stat = ((pm-pf) - 0)/se_p\n",
    "z_crit = stats.norm.ppf(0.05/2)\n",
    "print(z_stat,z_crit)"
   ]
  },
  {
   "cell_type": "code",
   "execution_count": 39,
   "metadata": {},
   "outputs": [
    {
     "name": "stdout",
     "output_type": "stream",
     "text": [
      "0.12381222382133206\n"
     ]
    }
   ],
   "source": [
    "pval = stats.norm.cdf(z_stat)*2\n",
    "print(pval)"
   ]
  },
  {
   "cell_type": "code",
   "execution_count": 40,
   "metadata": {},
   "outputs": [
    {
     "data": {
      "text/plain": [
       "(-1.538967528127731, 0.12381222382133206)"
      ]
     },
     "execution_count": 40,
     "metadata": {},
     "output_type": "execute_result"
    }
   ],
   "source": [
    "proportions_ztest([xm,xf],[nm,nf])"
   ]
  },
  {
   "cell_type": "code",
   "execution_count": null,
   "metadata": {},
   "outputs": [],
   "source": []
  }
 ],
 "metadata": {
  "kernelspec": {
   "display_name": "Python 3",
   "language": "python",
   "name": "python3"
  },
  "language_info": {
   "codemirror_mode": {
    "name": "ipython",
    "version": 3
   },
   "file_extension": ".py",
   "mimetype": "text/x-python",
   "name": "python",
   "nbconvert_exporter": "python",
   "pygments_lexer": "ipython3",
   "version": "3.8.3"
  }
 },
 "nbformat": 4,
 "nbformat_minor": 4
}
